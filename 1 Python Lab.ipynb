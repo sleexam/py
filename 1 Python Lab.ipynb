{
 "cells": [
  {
   "cell_type": "code",
   "execution_count": null,
   "id": "da473bdd-96ce-4188-a355-52df27ea5150",
   "metadata": {},
   "outputs": [
    {
     "name": "stdout",
     "output_type": "stream",
     "text": [
      "Hello Sudhanva M L\n"
     ]
    }
   ],
   "source": [
    "print(\"Hello Sudhanva M L\")"
   ]
  },
  {
   "cell_type": "code",
   "execution_count": null,
   "id": "ed8d57f3-5a2d-494e-9d1f-bab1e58804e1",
   "metadata": {},
   "outputs": [
    {
     "name": "stdout",
     "output_type": "stream",
     "text": [
      "4\n"
     ]
    }
   ],
   "source": [
    "a=1\n",
    "b=3\n",
    "c=a+b\n",
    "print(c)"
   ]
  },
  {
   "cell_type": "code",
   "execution_count": null,
   "id": "fe4745da-caaa-42ab-a027-bf9da3798d0f",
   "metadata": {},
   "outputs": [
    {
     "name": "stdout",
     "output_type": "stream",
     "text": [
      "Type is  <class 'int'>\n",
      "Type is  <class 'float'>\n",
      "Type is  <class 'str'>\n",
      "Type is  <class 'bool'>\n",
      "Type is  <class 'list'>\n",
      "Type is  <class 'dict'>\n",
      "<class 'tuple'>\n",
      "Type is  <class 'complex'>\n",
      "Type is  <class 'set'>\n",
      "2\n",
      "3\n"
     ]
    }
   ],
   "source": [
    "a=1\n",
    "print(\"Type is \",type(a))\n",
    "\n",
    "b=2.2\n",
    "print(\"Type is \",type(b))\n",
    "\n",
    "c=\"Hello\"\n",
    "print(\"Type is \",type(c))\n",
    "\n",
    "d=True\n",
    "print(\"Type is \",type(d))\n",
    "\n",
    "e=[1,2,3,4]\n",
    "print(\"Type is \",type(e))\n",
    "\n",
    "f={\"name\":\"Sudu\", \"age\":20}\n",
    "print(\"Type is \",type(f))\n",
    "\n",
    "g=(\"sudu\",\"ram\",\"suhas\",\"sudarshan\")\n",
    "print(type(g))\n",
    "\n",
    "h=5j\n",
    "print(\"Type is \",type(h))\n",
    "\n",
    "i={\"a\",\"b\"}\n",
    "print(\"Type is \",type(i))\n",
    "\n",
    "import math\n",
    "print(math.floor(2.5))\n",
    "print(math.ceil(2.5))"
   ]
  },
  {
   "cell_type": "code",
   "execution_count": null,
   "id": "2adcd1c8-5ccd-4ad0-8010-58237fe722af",
   "metadata": {},
   "outputs": [
    {
     "name": "stdout",
     "output_type": "stream",
     "text": [
      "0\n",
      "1\n",
      "2\n",
      "3\n",
      "4\n"
     ]
    }
   ],
   "source": [
    "for i in range (5):\n",
    "    print(i)"
   ]
  },
  {
   "cell_type": "code",
   "execution_count": null,
   "id": "9e771e17-dd57-44ce-82c2-84eb6cb4b554",
   "metadata": {},
   "outputs": [
    {
     "name": "stdout",
     "output_type": "stream",
     "text": [
      "2\n",
      "4\n",
      "6\n",
      "8\n"
     ]
    }
   ],
   "source": [
    "for i in range (2,10,2):\n",
    "    print(i)"
   ]
  },
  {
   "cell_type": "code",
   "execution_count": null,
   "id": "2666c162-8a59-4cb3-95c7-7ed09af8acb4",
   "metadata": {},
   "outputs": [
    {
     "name": "stdout",
     "output_type": "stream",
     "text": [
      "2\n",
      "4\n",
      "6\n",
      "8\n",
      "10\n",
      "12\n",
      "14\n",
      "16\n",
      "18\n",
      "20\n",
      "22\n",
      "24\n",
      "26\n",
      "28\n"
     ]
    }
   ],
   "source": [
    "for i in range (2,30,2):\n",
    "    print(i)"
   ]
  },
  {
   "cell_type": "code",
   "execution_count": null,
   "id": "83f6745d-b29e-42f3-bf84-674230ac7ef2",
   "metadata": {},
   "outputs": [
    {
     "name": "stdout",
     "output_type": "stream",
     "text": [
      "Enter the value of A :  5\n",
      "Enter the value of B :  23\n"
     ]
    },
    {
     "name": "stdout",
     "output_type": "stream",
     "text": [
      "b is largest\n"
     ]
    }
   ],
   "source": [
    "a=int(input(\"Enter the value of A : \"))\n",
    "b=int(input(\"Enter the value of B : \"))\n",
    "if(a>b):\n",
    "    print(\"a is largest\")\n",
    "else:\n",
    "    print(\"b is largest\")"
   ]
  },
  {
   "cell_type": "code",
   "execution_count": null,
   "id": "33a2e2f0-3a48-411f-ab41-14494e0b996d",
   "metadata": {},
   "outputs": [
    {
     "name": "stdout",
     "output_type": "stream",
     "text": [
      "Enter the value of A :  3\n",
      "Enter the value of B :  6\n",
      "Enter the value of C :  4\n"
     ]
    },
    {
     "name": "stdout",
     "output_type": "stream",
     "text": [
      "6 is largest\n"
     ]
    }
   ],
   "source": [
    "a=int(input(\"Enter the value of A : \"))\n",
    "b=int(input(\"Enter the value of B : \"))\n",
    "c=int(input(\"Enter the value of C : \"))\n",
    "if(a>b and a>c):\n",
    "    print(+a,\"is largest\")\n",
    "elif(b>c and b>a):\n",
    "    print(+b,\"is largest\")\n",
    "else:\n",
    "    print(+c,\"is largest\")"
   ]
  },
  {
   "cell_type": "code",
   "execution_count": null,
   "id": "4db4846d-2fdc-481e-ae7f-9ed57b88b0d7",
   "metadata": {},
   "outputs": [
    {
     "name": "stdout",
     "output_type": "stream",
     "text": [
      "Enter a number :  4\n"
     ]
    },
    {
     "name": "stdout",
     "output_type": "stream",
     "text": [
      "4 is a even number\n"
     ]
    }
   ],
   "source": [
    "a=int(input(\"Enter a number : \"))\n",
    "if(a%2==0):\n",
    "    print(+a,\"is a even number\")\n",
    "else:\n",
    "    print(+a,\"is a odd number\")"
   ]
  },
  {
   "cell_type": "code",
   "execution_count": null,
   "id": "6edbe866-9a8c-4b09-a1c0-a0b958e095d9",
   "metadata": {},
   "outputs": [
    {
     "name": "stdout",
     "output_type": "stream",
     "text": [
      "Enter a number :  -5\n"
     ]
    },
    {
     "name": "stdout",
     "output_type": "stream",
     "text": [
      "-5 is a negative number\n"
     ]
    }
   ],
   "source": [
    "a=int(input(\"Enter a number : \"))\n",
    "if(a>0):\n",
    "    print(+a,\"is a positive number\")\n",
    "else:\n",
    "    print(+a,\"is a negative number\")"
   ]
  },
  {
   "cell_type": "code",
   "execution_count": null,
   "id": "1fb01fce-bb1c-4ce1-b3b4-28ac2f7871c0",
   "metadata": {},
   "outputs": [
    {
     "name": "stdout",
     "output_type": "stream",
     "text": [
      "Hello Sudhanva M L\n"
     ]
    }
   ],
   "source": [
    "def greet():\n",
    "    print(\"Hello Sudhanva M L\")\n",
    "greet()"
   ]
  },
  {
   "cell_type": "code",
   "execution_count": null,
   "id": "129bf024-0560-424d-942b-a5b67992c563",
   "metadata": {},
   "outputs": [
    {
     "name": "stdout",
     "output_type": "stream",
     "text": [
      "Enter the value of A :  7\n",
      "Enter the value of B :  3\n"
     ]
    },
    {
     "name": "stdout",
     "output_type": "stream",
     "text": [
      "The sum is 10\n"
     ]
    }
   ],
   "source": [
    "def sum(a,b):\n",
    "    a=int(input(\"Enter the value of A : \"))\n",
    "    b=int(input(\"Enter the value of B : \"))\n",
    "    c=a+b\n",
    "    print(\"The sum is\",+c)\n",
    "sum(a,b)"
   ]
  },
  {
   "cell_type": "code",
   "execution_count": null,
   "id": "8e9fd7a2-a0a6-4722-8f11-3262fee0e23b",
   "metadata": {},
   "outputs": [
    {
     "name": "stdout",
     "output_type": "stream",
     "text": [
      "Enter the vlaue of A :  4\n",
      "Enter the vlaue of B :  5\n"
     ]
    },
    {
     "name": "stdout",
     "output_type": "stream",
     "text": [
      "1.Add \t 2.Sub \t 3.Mul \t 4.Div \n",
      "\n"
     ]
    },
    {
     "name": "stdout",
     "output_type": "stream",
     "text": [
      "Enter your choice :  1\n"
     ]
    },
    {
     "name": "stdout",
     "output_type": "stream",
     "text": [
      "The addition is  9\n"
     ]
    }
   ],
   "source": [
    "def add(a,b):\n",
    "    return a+b\n",
    "def sub(a,b):\n",
    "    return a-b\n",
    "def mul(a,b):\n",
    "    return a*b\n",
    "def div(a,b):\n",
    "    return a/b\n",
    "a=int(input(\"Enter the vlaue of A : \"))\n",
    "b=int(input(\"Enter the vlaue of B : \"))\n",
    "print(\"1.Add \\t 2.Sub \\t 3.Mul \\t 4.Div\")\n",
    "ch=int(input(\"Enter your choice : \"))\n",
    "if(ch==1):\n",
    "    print(\"The addition is \",add(a,b))\n",
    "elif(ch==2):\n",
    "    print(\"The subtraction is \",sub(a,b))\n",
    "elif(ch==3):\n",
    "    print(\"The multiplication is \",mul(a,b))\n",
    "elif(ch==4):\n",
    "    print(\"The Division is \",div(a,b))\n",
    "else:\n",
    "    print(\"Invalid choice\")"
   ]
  },
  {
   "cell_type": "code",
   "execution_count": null,
   "id": "f8c28cd7-33d4-4c8b-ac8d-f1dad5d56b1f",
   "metadata": {},
   "outputs": [
    {
     "name": "stdout",
     "output_type": "stream",
     "text": [
      "1.Area of Triangle 2.Area of Rectangle 3.Area of circle 4.Perimeter of circle\n"
     ]
    },
    {
     "name": "stdout",
     "output_type": "stream",
     "text": [
      "Enter your choice 1\n",
      "Enter the base value of triangle :  3\n",
      "Enter the height value of triangle :  4\n"
     ]
    },
    {
     "name": "stdout",
     "output_type": "stream",
     "text": [
      "Area is  6.0\n"
     ]
    }
   ],
   "source": [
    "import math\n",
    "def tri(x,y):\n",
    "    return 0.5*x*y\n",
    "def rect(x,y):\n",
    "    return x*y\n",
    "def area(x):\n",
    "    return math.pi*x*x\n",
    "def peri(x):\n",
    "    return math.pi*2*x\n",
    "print(\"1.Area of Triangle 2.Area of Rectangle 3.Area of circle 4.Perimeter of circle\")\n",
    "ch=int(input(\"Enter your choice\"))\n",
    "if(ch==1):\n",
    "    x=int(input(\"Enter the base value of triangle : \"))\n",
    "    y=int(input(\"Enter the height value of triangle : \"))\n",
    "    print(\"Area is \",tri(x,y))\n",
    "elif(ch==2):\n",
    "    x=int(input(\"Enter length of rectangle : \"))\n",
    "    y=int(input(\"Enter breadth of rectangle : \"))\n",
    "    print(\"Area is \",rect(x,y))\n",
    "elif(ch==3):\n",
    "    x=int(input(\"Enter the radius of circle : \"))\n",
    "    print(\"Area is \",area(x))\n",
    "elif(ch==4):\n",
    "    x=int(input(\"Enter the radius of circle : \"))\n",
    "    print(\"Perimeter is \",peri(x))\n",
    "else:\n",
    "    print(\"Enter valid choice.....\")"
   ]
  },
  {
   "cell_type": "code",
   "execution_count": null,
   "id": "c429dced-5dee-456d-91f8-2417cd93a3d9",
   "metadata": {},
   "outputs": [
    {
     "name": "stdout",
     "output_type": "stream",
     "text": [
      "1. Celsius to Fahrenheit\t 2. Fahrenheit to Celsius\n"
     ]
    },
    {
     "name": "stdout",
     "output_type": "stream",
     "text": [
      "Enter your choice :  1\n",
      "Enter temperature in celsius :  30\n"
     ]
    },
    {
     "name": "stdout",
     "output_type": "stream",
     "text": [
      "Temperature in fahrenheit is 86.0\n"
     ]
    }
   ],
   "source": [
    "def celsius(t):\n",
    "    return ((9*t)/5)+32\n",
    "def fahrenheit(t):\n",
    "    return ((t-32)/9)*5\n",
    "print(\"1. Celsius to Fahrenheit\\t 2. Fahrenheit to Celsius\")\n",
    "ch=int(input(\"Enter your choice : \"))\n",
    "if(ch==1):\n",
    "    t=int(input(\"Enter temperature in celsius : \"))\n",
    "    print(\"Temperature in fahrenheit is\",celsius(t))\n",
    "elif(ch==2):\n",
    "    t=float(input(\"Enter temperature in fahrenheit: \"))\n",
    "    print(\"Temperature in celsius is\",fahrenheit(t))\n",
    "else:\n",
    "    print(\"Enter valid choice\")"
   ]
  },
  {
   "cell_type": "code",
   "execution_count": null,
   "id": "7aaf51e6-c208-4616-be43-471c7f2247f6",
   "metadata": {},
   "outputs": [
    {
     "name": "stdout",
     "output_type": "stream",
     "text": [
      "Enter a number :  4\n"
     ]
    },
    {
     "name": "stdout",
     "output_type": "stream",
     "text": [
      "The vlaue is  24\n"
     ]
    }
   ],
   "source": [
    "n=int(input(\"Enter a number : \"))\n",
    "if(n<0):\n",
    "    print(\"factorial is not possible\")\n",
    "elif(n==0):\n",
    "    print(1)\n",
    "else:\n",
    "    for i in range(1,n):\n",
    "        n=n*i\n",
    "    print(\"The vlaue is \",n)"
   ]
  },
  {
   "cell_type": "code",
   "execution_count": null,
   "id": "745b47b7-6bca-4f05-a666-7ca0152c6925",
   "metadata": {},
   "outputs": [
    {
     "name": "stdout",
     "output_type": "stream",
     "text": [
      "Enter the number :  5\n"
     ]
    },
    {
     "name": "stdout",
     "output_type": "stream",
     "text": [
      "Factorial is 120\n"
     ]
    }
   ],
   "source": [
    "def fact():\n",
    "    n=int(input(\"Enter the number : \"))\n",
    "    fact=1\n",
    "    if(n<0):\n",
    "        print(\"Factorial is not possible\")\n",
    "    elif(n==0):\n",
    "        print(1)\n",
    "    else:\n",
    "        for i in range(1,n+1):\n",
    "            fact=fact*i\n",
    "        print(\"Factorial is\",fact)\n",
    "fact()"
   ]
  },
  {
   "cell_type": "code",
   "execution_count": null,
   "id": "75ddfa4d-e790-4d26-8978-ef5d916aea86",
   "metadata": {},
   "outputs": [],
   "source": []
  }
 ],
 "metadata": {
  "kernelspec": {
   "display_name": "Python 3 (ipykernel)",
   "language": "python",
   "name": "python3"
  },
  "language_info": {
   "codemirror_mode": {
    "name": "ipython",
    "version": 3
   },
   "file_extension": ".py",
   "mimetype": "text/x-python",
   "name": "python",
   "nbconvert_exporter": "python",
   "pygments_lexer": "ipython3",
   "version": "3.12.4"
  }
 },
 "nbformat": 4,
 "nbformat_minor": 5
}
