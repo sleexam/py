{
 "cells": [
  {
   "cell_type": "markdown",
   "id": "2ce0462f-9cae-41bb-b7a8-a5ff83df2947",
   "metadata": {},
   "source": [
    "1. String Builtin Methods"
   ]
  },
  {
   "cell_type": "code",
   "execution_count": 2,
   "id": "160a8346-4957-402a-8ac0-998335e6070b",
   "metadata": {},
   "outputs": [
    {
     "name": "stdout",
     "output_type": "stream",
     "text": [
      "True\n"
     ]
    }
   ],
   "source": [
    "str=\"Hello123\"\n",
    "print(str.isalnum())\n",
    "#print(a)"
   ]
  },
  {
   "cell_type": "code",
   "execution_count": 8,
   "id": "0e30d7db-2fa7-4949-b1d8-2d489d488c68",
   "metadata": {},
   "outputs": [
    {
     "name": "stdout",
     "output_type": "stream",
     "text": [
      "True\n"
     ]
    }
   ],
   "source": [
    "str=\" \"\n",
    "print(str.isspace())\n"
   ]
  },
  {
   "cell_type": "code",
   "execution_count": 8,
   "id": "eedfd05e-7b9e-4611-920b-2bafaee18f9f",
   "metadata": {},
   "outputs": [
    {
     "name": "stdout",
     "output_type": "stream",
     "text": [
      "8\n",
      "True\n"
     ]
    }
   ],
   "source": [
    "str=\"Computer\"\n",
    "print(len(str))\n",
    "print(str.isalpha())"
   ]
  },
  {
   "cell_type": "code",
   "execution_count": 58,
   "id": "bdd721c0-6f42-4b70-b024-22bd7ed515b8",
   "metadata": {},
   "outputs": [
    {
     "name": "stdout",
     "output_type": "stream",
     "text": [
      "6\n"
     ]
    }
   ],
   "source": [
    "str=\"Good Evening\"\n",
    "a=str.index(\"v\")\n",
    "print(a)"
   ]
  },
  {
   "cell_type": "code",
   "execution_count": 6,
   "id": "c50df89d-5a68-4fcf-ac21-d27672c9322f",
   "metadata": {},
   "outputs": [
    {
     "name": "stdout",
     "output_type": "stream",
     "text": [
      "True\n",
      "False\n",
      "mca department\n",
      "MCA DEPARTMENT\n"
     ]
    }
   ],
   "source": [
    "str=\"mca department\"\n",
    "print(str.islower())\n",
    "print(str.isupper())\n",
    "print(str.lower())\n",
    "print(str.upper())"
   ]
  },
  {
   "cell_type": "code",
   "execution_count": 10,
   "id": "1e4ea27d-e710-4113-aa01-654e213ee2ea",
   "metadata": {},
   "outputs": [
    {
     "name": "stdout",
     "output_type": "stream",
     "text": [
      "<class 'str'>\n"
     ]
    }
   ],
   "source": [
    "str=\"Computer\"\n",
    "print(type(str))"
   ]
  },
  {
   "cell_type": "code",
   "execution_count": 4,
   "id": "0c70430a-138e-46cd-9276-0590305bd3ef",
   "metadata": {},
   "outputs": [
    {
     "name": "stdout",
     "output_type": "stream",
     "text": [
      "Hello, How Are You\n"
     ]
    }
   ],
   "source": [
    "str=\"hello, how are you\"\n",
    "print(str.title())"
   ]
  },
  {
   "cell_type": "code",
   "execution_count": 78,
   "id": "e5612028-86e2-4f9a-b497-4b93e2c15963",
   "metadata": {},
   "outputs": [
    {
     "name": "stdout",
     "output_type": "stream",
     "text": [
      "True\n"
     ]
    }
   ],
   "source": [
    "str=\"welcome to my world\"\n",
    "print(str.startswith(\"welcome\"))"
   ]
  },
  {
   "cell_type": "code",
   "execution_count": 80,
   "id": "258afa70-6967-4934-83cf-a1f4b300637a",
   "metadata": {},
   "outputs": [
    {
     "name": "stdout",
     "output_type": "stream",
     "text": [
      "True\n"
     ]
    }
   ],
   "source": [
    "str=\"welcome to my world\"\n",
    "print(str.endswith(\"world\"))"
   ]
  },
  {
   "cell_type": "code",
   "execution_count": 86,
   "id": "c6f12399-b925-446b-8d9e-4c4b15dfd9be",
   "metadata": {},
   "outputs": [
    {
     "name": "stdout",
     "output_type": "stream",
     "text": [
      "['welcome', 'to', 'my', 'world']\n"
     ]
    }
   ],
   "source": [
    "str=\"welcome to my world\"\n",
    "print(str.split())"
   ]
  },
  {
   "cell_type": "code",
   "execution_count": 90,
   "id": "3c24e7c6-1f56-4c2b-8d71-dee9ccd447e4",
   "metadata": {},
   "outputs": [
    {
     "name": "stdout",
     "output_type": "stream",
     "text": [
      "I like bikes\n"
     ]
    }
   ],
   "source": [
    "str=\"I like cars\"\n",
    "print(str.replace(\"cars\", \"bikes\"))"
   ]
  },
  {
   "cell_type": "code",
   "execution_count": 16,
   "id": "2e1ae0be-c239-4833-b59b-c22feecae1c9",
   "metadata": {},
   "outputs": [
    {
     "name": "stdout",
     "output_type": "stream",
     "text": [
      "2\n"
     ]
    }
   ],
   "source": [
    "str=\"I love apples, apple are my favorite\"\n",
    "print(str.count(\"apple\"))"
   ]
  },
  {
   "cell_type": "code",
   "execution_count": 30,
   "id": "04f4e710-0831-4d4d-874b-a665b156d2cb",
   "metadata": {},
   "outputs": [
    {
     "name": "stdout",
     "output_type": "stream",
     "text": [
      "mca dEPARTMENT\n",
      "tnemtrapeD ACM\n"
     ]
    }
   ],
   "source": [
    "str=\"MCA Department\"\n",
    "print(str.swapcase())\n",
    "print(str[::-1])"
   ]
  },
  {
   "cell_type": "markdown",
   "id": "fbe480e6-4f13-4b6f-b426-0766df8f85e3",
   "metadata": {},
   "source": [
    "2. Lists Builtin Methods"
   ]
  },
  {
   "cell_type": "code",
   "execution_count": 108,
   "id": "ea8dc020-908f-4374-8067-183b9909ca39",
   "metadata": {},
   "outputs": [
    {
     "name": "stdout",
     "output_type": "stream",
     "text": [
      "['apple', 'banana', 'cherry', 'orange']\n"
     ]
    }
   ],
   "source": [
    "list = ['apple', 'banana', 'cherry']\n",
    "list.append(\"orange\")\n",
    "print(list)"
   ]
  },
  {
   "cell_type": "code",
   "execution_count": 42,
   "id": "eaf0a0c9-2196-46c1-ad89-21ea91c4fded",
   "metadata": {},
   "outputs": [
    {
     "name": "stdout",
     "output_type": "stream",
     "text": [
      "<class 'list'>\n"
     ]
    }
   ],
   "source": [
    "a=[1,2,3,4]\n",
    "print(type(a))"
   ]
  },
  {
   "cell_type": "code",
   "execution_count": 44,
   "id": "bb2e12ed-792c-4849-a40d-090bfe8a08b6",
   "metadata": {},
   "outputs": [
    {
     "name": "stdout",
     "output_type": "stream",
     "text": [
      "4\n"
     ]
    }
   ],
   "source": [
    "a=[1,2,3,4]\n",
    "print(len(a))"
   ]
  },
  {
   "cell_type": "code",
   "execution_count": 122,
   "id": "3d28ec1f-847e-4462-b0f7-61018ccae83f",
   "metadata": {},
   "outputs": [
    {
     "name": "stdout",
     "output_type": "stream",
     "text": [
      "[1, 2, 3, 4, 5]\n"
     ]
    }
   ],
   "source": [
    "a=[1,2,3,4]\n",
    "a.append(5)\n",
    "print(a)"
   ]
  },
  {
   "cell_type": "code",
   "execution_count": 120,
   "id": "21eb207a-001b-4587-93d6-071fac3a37b1",
   "metadata": {},
   "outputs": [
    {
     "name": "stdout",
     "output_type": "stream",
     "text": [
      "[]\n"
     ]
    }
   ],
   "source": [
    "a=[1,2,3,4]\n",
    "a.clear()\n",
    "print(a)"
   ]
  },
  {
   "cell_type": "code",
   "execution_count": 34,
   "id": "432b6786-9f8e-481a-a49c-c8f334ab0713",
   "metadata": {},
   "outputs": [
    {
     "name": "stdout",
     "output_type": "stream",
     "text": [
      "[1, 2, 3, 4, 5, 6]\n"
     ]
    }
   ],
   "source": [
    "a=[1,2,3,4,5,6]\n",
    "b=a.copy()\n",
    "print(b)"
   ]
  },
  {
   "cell_type": "code",
   "execution_count": 132,
   "id": "7bc65eb3-8599-44ce-9e89-9da70749c085",
   "metadata": {},
   "outputs": [
    {
     "name": "stdout",
     "output_type": "stream",
     "text": [
      "2\n"
     ]
    }
   ],
   "source": [
    "a=[1,2,3,2]\n",
    "b=a.count(2)\n",
    "print(b)"
   ]
  },
  {
   "cell_type": "code",
   "execution_count": 42,
   "id": "4d071908-9876-41ee-a0f3-1b08fd0bf46c",
   "metadata": {},
   "outputs": [
    {
     "name": "stdout",
     "output_type": "stream",
     "text": [
      "[5, 7, 8]\n",
      "[1, 2, 3, 4, 5, 7, 8]\n"
     ]
    }
   ],
   "source": [
    "a=[1,2,3,4]\n",
    "b=[5,6,7,8]\n",
    "del b[1]\n",
    "print(b)\n",
    "a.extend(b)\n",
    "print(a)"
   ]
  },
  {
   "cell_type": "code",
   "execution_count": 44,
   "id": "20ce7599-0d72-477d-8ed8-95bfc1d3597f",
   "metadata": {},
   "outputs": [
    {
     "name": "stdout",
     "output_type": "stream",
     "text": [
      "2\n"
     ]
    }
   ],
   "source": [
    "a= ['apple', 'banana', 'cherry']\n",
    "print(a.index(\"cherry\"))"
   ]
  },
  {
   "cell_type": "code",
   "execution_count": 144,
   "id": "9af658f1-eeb3-4ec7-8691-6c81f856b7a8",
   "metadata": {},
   "outputs": [
    {
     "name": "stdout",
     "output_type": "stream",
     "text": [
      "['apple', 'banana', 'orange', 'cherry']\n"
     ]
    }
   ],
   "source": [
    "a= ['apple', 'banana', 'cherry']\n",
    "a.insert(2,'orange')\n",
    "print(a)"
   ]
  },
  {
   "cell_type": "code",
   "execution_count": 6,
   "id": "aeeec1ec-f910-494d-83df-b8f60f49acd2",
   "metadata": {},
   "outputs": [
    {
     "name": "stdout",
     "output_type": "stream",
     "text": [
      "[1, 2, 3, 4]\n",
      "[1, 2]\n"
     ]
    }
   ],
   "source": [
    "a=[1,2,3,4]\n",
    "print(a)\n",
    "a.pop(2)\n",
    "a.pop()\n",
    "print(a)"
   ]
  },
  {
   "cell_type": "code",
   "execution_count": 8,
   "id": "08316e51-f285-4d79-8137-91cc0c4fec15",
   "metadata": {},
   "outputs": [
    {
     "name": "stdout",
     "output_type": "stream",
     "text": [
      "[1, 2, 3]\n"
     ]
    }
   ],
   "source": [
    "a=[1,2,3,4]\n",
    "a.remove(4)\n",
    "print(a)"
   ]
  },
  {
   "cell_type": "code",
   "execution_count": 148,
   "id": "297d2961-0050-45ba-8db6-a96e0f3909de",
   "metadata": {},
   "outputs": [
    {
     "name": "stdout",
     "output_type": "stream",
     "text": [
      "[4, 3, 2, 1]\n"
     ]
    }
   ],
   "source": [
    "a=[1,2,3,4]\n",
    "a.reverse()\n",
    "print(a)"
   ]
  },
  {
   "cell_type": "code",
   "execution_count": 58,
   "id": "7f38a043-d22f-49ce-ad88-b1a2cd6eaf0d",
   "metadata": {},
   "outputs": [
    {
     "name": "stdout",
     "output_type": "stream",
     "text": [
      "[1, 2, 3, 4, 5, 6]\n"
     ]
    }
   ],
   "source": [
    "a=[2,6,1,5,3,4]\n",
    "a.sort()\n",
    "print(a)"
   ]
  },
  {
   "cell_type": "code",
   "execution_count": 28,
   "id": "2e730cdb-f7c6-402d-8ce9-41314e929a36",
   "metadata": {},
   "outputs": [
    {
     "name": "stdout",
     "output_type": "stream",
     "text": [
      "Enter a string :  kjth 2er4 sd12 @*$(\n"
     ]
    },
    {
     "name": "stdout",
     "output_type": "stream",
     "text": [
      "Total length of str :  19\n",
      "Total alphabets :  8\n",
      "Total digits :  4\n",
      "Total special character :  7\n",
      "Total words :  3\n"
     ]
    }
   ],
   "source": [
    "str=input(\"Enter a string : \")\n",
    "alpha=digit=special=words=0\n",
    "for ch in str:\n",
    "    if ch.isalpha():\n",
    "        alpha+=1\n",
    "    elif ch.isdigit():\n",
    "        digit+=1\n",
    "    else:\n",
    "        special+=1\n",
    "for ch in str:\n",
    "    if ch.isspace():\n",
    "        words+=1\n",
    "print(\"Total length of str : \",len(str))\n",
    "print(\"Total alphabets : \",alpha)\n",
    "print(\"Total digits : \",digit)\n",
    "print(\"Total special character : \",special)\n",
    "print(\"Total words : \",words)"
   ]
  },
  {
   "cell_type": "code",
   "execution_count": 32,
   "id": "aa0bc52b-c911-4ec0-9088-033f685ccd5d",
   "metadata": {},
   "outputs": [
    {
     "name": "stdout",
     "output_type": "stream",
     "text": [
      "Enter a word :  sudhanva\n"
     ]
    },
    {
     "name": "stdout",
     "output_type": "stream",
     "text": [
      "Number of vowels is  3\n",
      "Number of consonant is  5\n"
     ]
    }
   ],
   "source": [
    "str=input(\"Enter a word : \")\n",
    "vowels=consonant=0\n",
    "for i in str:\n",
    "    if(i=='a' or i=='e' or i=='i' or i=='o' or i=='u'):\n",
    "        vowels +=1\n",
    "    else:\n",
    "        consonant +=1\n",
    "print(\"Number of vowels is \",vowels)\n",
    "print(\"Number of consonant is \",consonant)"
   ]
  },
  {
   "cell_type": "code",
   "execution_count": 62,
   "id": "ea0bb8ab-f104-46b1-a79a-9192f2baf8ce",
   "metadata": {},
   "outputs": [
    {
     "name": "stdout",
     "output_type": "stream",
     "text": [
      "Enter the size of the list :  5\n",
      "Enter the elements :  4\n",
      "Enter the elements :  6\n",
      "Enter the elements :  -2\n",
      "Enter the elements :  -4\n",
      "Enter the elements :  1\n"
     ]
    },
    {
     "name": "stdout",
     "output_type": "stream",
     "text": [
      "Original list :  [4, 6, -2, -4, 1]\n",
      "Positive list :  [4, 6, 1]\n",
      "Negative list :  [-2, -4]\n"
     ]
    }
   ],
   "source": [
    "n=int(input(\"Enter the size of the list : \"))\n",
    "ol=[]\n",
    "pl=[]\n",
    "nl=[]\n",
    "for i in range(n):\n",
    "    e=int(input(\"Enter the elements : \"))\n",
    "    ol.append(e)\n",
    "    if ol[i]>=0:\n",
    "        pl.append(ol[i])\n",
    "    else:\n",
    "        nl.append(ol[i])\n",
    "print(\"Original list : \",ol)\n",
    "print(\"Positive list : \",pl)\n",
    "print(\"Negative list : \",nl)"
   ]
  },
  {
   "cell_type": "code",
   "execution_count": 87,
   "id": "6eb14256-b292-433f-9246-d47f2cac8964",
   "metadata": {},
   "outputs": [
    {
     "name": "stdout",
     "output_type": "stream",
     "text": [
      "Enter the size of the list :  5\n",
      "Enter the elements :  -1\n",
      "Enter the elements :  3\n",
      "Enter the elements :  1\n",
      "Enter the elements :  6\n",
      "Enter the elements :  3\n"
     ]
    },
    {
     "name": "stdout",
     "output_type": "stream",
     "text": [
      "Original list :  [-1, 3, 1, 6, 3]\n",
      "Positive list :  [3, 1, 6, 3]\n",
      "Negative list :  [-1]\n"
     ]
    }
   ],
   "source": [
    "def pos(ol):\n",
    "    for i in range(n):\n",
    "        if ol[i]>=0:\n",
    "            pl.append(ol[i])\n",
    "    return(pl)\n",
    "def neg(ol):\n",
    "    for i in range(n):\n",
    "        if ol[i]<0:\n",
    "            nl.append(ol[i])\n",
    "    return(nl)\n",
    "n=int(input(\"Enter the size of the list : \"))\n",
    "ol=[]\n",
    "pl=[]\n",
    "nl=[]\n",
    "for i in range(n):\n",
    "    e=int(input(\"Enter the elements : \"))\n",
    "    ol.append(e)\n",
    "    \n",
    "print(\"Original list : \",ol)\n",
    "print(\"Positive list : \",pos(ol))\n",
    "print(\"Negative list : \",neg(ol))"
   ]
  },
  {
   "cell_type": "code",
   "execution_count": 95,
   "id": "b6e1dcc8-c2bc-4750-82eb-7802365dd367",
   "metadata": {},
   "outputs": [
    {
     "name": "stdout",
     "output_type": "stream",
     "text": [
      "Enter the size of the list :  5\n",
      "Enter the elements :  1\n",
      "Enter the elements :  2\n",
      "Enter the elements :  3\n",
      "Enter the elements :  4\n",
      "Enter the elements :  5\n"
     ]
    },
    {
     "name": "stdout",
     "output_type": "stream",
     "text": [
      "Original list :  [1, 2, 3, 4, 5]\n",
      "Reverse list :  [5, 4, 3, 2, 1]\n"
     ]
    }
   ],
   "source": [
    "def reverse(l):\n",
    "    l.reverse()\n",
    "    return(l)\n",
    "n=int(input(\"Enter the size of the list : \"))\n",
    "ol=[]\n",
    "for i in range(n):\n",
    "    e=int(input(\"Enter the elements : \"))\n",
    "    ol.append(e)\n",
    "    \n",
    "print(\"Original list : \",ol)\n",
    "print(\"Reverse list : \",reverse(ol))"
   ]
  },
  {
   "cell_type": "code",
   "execution_count": 99,
   "id": "1ba250bb-c972-4e49-b467-af542c107913",
   "metadata": {},
   "outputs": [
    {
     "name": "stdout",
     "output_type": "stream",
     "text": [
      "Cmue cec\n",
      "Computer Science\n"
     ]
    }
   ],
   "source": [
    "str=\"Computer Science\"\n",
    "print(str[::2])\n",
    "print(str[:3]+str[3:])"
   ]
  },
  {
   "cell_type": "code",
   "execution_count": 8,
   "id": "bcf94734-a126-4df9-a95c-f1c8c13cb5cd",
   "metadata": {},
   "outputs": [
    {
     "name": "stdout",
     "output_type": "stream",
     "text": [
      "Enter a string mom\n"
     ]
    },
    {
     "name": "stdout",
     "output_type": "stream",
     "text": [
      "Palindrome\n"
     ]
    }
   ],
   "source": [
    "str=input(\"Enter a string\")\n",
    "str1=str[::-1]\n",
    "if str==str1:\n",
    "    print(\"Palindrome\")\n",
    "else:\n",
    "    print(\"not a palindrome\")"
   ]
  },
  {
   "cell_type": "code",
   "execution_count": 35,
   "id": "8ff2bac8-8492-4c73-b63b-94bad19010f8",
   "metadata": {},
   "outputs": [
    {
     "name": "stdout",
     "output_type": "stream",
     "text": [
      "analytics\n"
     ]
    }
   ],
   "source": [
    "words=[\"data\",\"analytics\",\"with\",\"python\"]\n",
    "largest_word=\"\"\n",
    "maxlen=0\n",
    "for i in words:\n",
    "    if len(i)>maxlen:\n",
    "        largest_word=i\n",
    "        maxlen=len(i)\n",
    "print(largest_word)"
   ]
  },
  {
   "cell_type": "code",
   "execution_count": null,
   "id": "776f8353-21fd-4e7a-a9fe-7a3840fd6af9",
   "metadata": {},
   "outputs": [],
   "source": []
  }
 ],
 "metadata": {
  "kernelspec": {
   "display_name": "Python 3",
   "language": "python",
   "name": "python3"
  },
  "language_info": {
   "codemirror_mode": {
    "name": "ipython",
    "version": 3
   },
   "file_extension": ".py",
   "mimetype": "text/x-python",
   "name": "python",
   "nbconvert_exporter": "python",
   "pygments_lexer": "ipython3",
   "version": "3.12.4"
  }
 },
 "nbformat": 4,
 "nbformat_minor": 5
}
