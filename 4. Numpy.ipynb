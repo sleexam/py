{
 "cells": [
  {
   "cell_type": "code",
   "execution_count": 4,
   "id": "f4472b03-9adf-4e17-9e99-cc4d600c1e24",
   "metadata": {},
   "outputs": [
    {
     "name": "stdout",
     "output_type": "stream",
     "text": [
      "Array :  [[1 2 3]\n",
      " [4 5 6]]\n",
      "Type :  <class 'numpy.ndarray'>\n",
      "Dimension :  2\n",
      "DType :  int32\n",
      "Size :  6\n",
      "Shape :  (2, 3)\n",
      "Transpose :  [[1 4]\n",
      " [2 5]\n",
      " [3 6]]\n"
     ]
    }
   ],
   "source": [
    "import numpy as np\n",
    "#import random\n",
    "arr=np.array([[1,2,3],[4,5,6]])\n",
    "print(\"Array : \",arr)\n",
    "print(\"Type : \",type(arr))\n",
    "print(\"Dimension : \",arr.ndim)\n",
    "print(\"DType : \",arr.dtype)\n",
    "print(\"Size : \",arr.size)\n",
    "print(\"Shape : \",arr.shape)\n",
    "print(\"Transpose : \",arr.T)"
   ]
  },
  {
   "cell_type": "code",
   "execution_count": 12,
   "id": "ed2275d6-2cb5-42c4-9b3a-65f80603e7c9",
   "metadata": {},
   "outputs": [
    {
     "name": "stdout",
     "output_type": "stream",
     "text": [
      "[[1. 1. 1. 1.]\n",
      " [1. 1. 1. 1.]\n",
      " [1. 1. 1. 1.]\n",
      " [1. 1. 1. 1.]]\n",
      "[[ True  True  True]\n",
      " [ True  True  True]\n",
      " [ True  True  True]]\n",
      "[[0 0 0 0]\n",
      " [0 0 0 0]\n",
      " [0 0 0 0]]\n"
     ]
    }
   ],
   "source": [
    "a=np.ones(16).reshape(4,4)\n",
    "b=np.ones((3,3),dtype='bool')\n",
    "c=np.zeros((3,4),dtype=\"int32\")\n",
    "print(a)\n",
    "print(b)\n",
    "print(c)"
   ]
  },
  {
   "cell_type": "code",
   "execution_count": 26,
   "id": "c9f02c9f-e548-462c-8635-fe5f2c0050f2",
   "metadata": {},
   "outputs": [
    {
     "name": "stdout",
     "output_type": "stream",
     "text": [
      "Original array :  [ 1  2  3  4  5  6  7  8  9 10 11 12]\n",
      "Reshape : \n",
      " [[[ 1  2  3]\n",
      "  [ 4  5  6]]\n",
      "\n",
      " [[ 7  8  9]\n",
      "  [10 11 12]]]\n",
      "Sequence : \n",
      " [[ 3  8]\n",
      " [13 18]\n",
      " [23 28]]\n",
      "Flatten() :  [1 2 3 4 5 6]\n",
      "Reshape(-1) :  [1 2 3 4 5 6]\n"
     ]
    }
   ],
   "source": [
    "a=np.array([1,2,3,4,5,6,7,8,9,10,11,12])\n",
    "print(\"Original array : \",a)\n",
    "\n",
    "a1=a.reshape(2,2,3)\n",
    "print(\"Reshape : \\n\",a1)\n",
    "\n",
    "a2=np.arange(3,30,5).reshape(3,2)\n",
    "print(\"Sequence : \\n\",a2)\n",
    "\n",
    "a3=np.array([[1,2,3],[4,5,6]])\n",
    "a4=a3.flatten()\n",
    "print(\"Flatten() : \",a4)\n",
    "\n",
    "a5=a3.reshape(-1)\n",
    "print(\"Reshape(-1) : \",a5)"
   ]
  },
  {
   "cell_type": "code",
   "execution_count": 28,
   "id": "9a6fa344-6ce1-4973-a8b2-589aea86857e",
   "metadata": {},
   "outputs": [
    {
     "name": "stdout",
     "output_type": "stream",
     "text": [
      "[[1 2 3]\n",
      " [4 5 6]]\n",
      "[[1 2 3]\n",
      " [4 5 6]]\n",
      "Element Product :  [[ 1  4  9]\n",
      " [16 25 36]]\n",
      "Dot Product :  [[30 36 42]\n",
      " [66 81 96]]\n"
     ]
    }
   ],
   "source": [
    "import numpy as np\n",
    "a=np.array([[1,2,3],[4,5,6]])\n",
    "b=np.array([[1,2,3],[4,5,6]])\n",
    "print(a)\n",
    "print(b)\n",
    "c=a*b\n",
    "print(\"Element Product : \",c)\n",
    "\n",
    "d=np.array([[1,2,3],[4,5,6]])\n",
    "e=np.array([[1,2,3],[4,5,6],[7,8,9]])\n",
    "f=np.dot(d,e)\n",
    "print(\"Dot Product : \",f)"
   ]
  },
  {
   "cell_type": "code",
   "execution_count": 175,
   "id": "e4172481-ade5-4c2a-bcc7-3db5621676a2",
   "metadata": {},
   "outputs": [
    {
     "name": "stdout",
     "output_type": "stream",
     "text": [
      "Enter the Row size :  2\n",
      "Enter the column size :  2\n",
      " 1\n",
      " 2\n",
      " 3\n",
      " 4\n"
     ]
    },
    {
     "name": "stdout",
     "output_type": "stream",
     "text": [
      "[[1 2]\n",
      " [3 4]]\n"
     ]
    },
    {
     "name": "stdout",
     "output_type": "stream",
     "text": [
      "Enter the Row size :  2\n",
      "Enter the column size :  2\n",
      " 5\n",
      " 6\n",
      " 7\n",
      " 8\n"
     ]
    },
    {
     "name": "stdout",
     "output_type": "stream",
     "text": [
      "[[5 6]\n",
      " [7 8]]\n",
      "Dot product : \n",
      " [[19 22]\n",
      " [43 50]]\n",
      "Transpose is: \n",
      " [[19 43]\n",
      " [22 50]]\n"
     ]
    }
   ],
   "source": [
    "r1=int(input(\"Enter the Row size : \"))\n",
    "c1=int(input(\"Enter the column size : \"))\n",
    "n=r1*c1\n",
    "matrix1=[]\n",
    "for i in range(n):\n",
    "         matrix1.append(int(input()))\n",
    "a=np.array(matrix1).reshape(r1,c1)\n",
    "print(a)\n",
    "\n",
    "r2=int(input(\"Enter the Row size : \"))\n",
    "c2=int(input(\"Enter the column size : \"))\n",
    "n=r2*c2\n",
    "matrix2=[]\n",
    "for i in range(n):\n",
    "         matrix2.append(int(input()))\n",
    "b=np.array(matrix2).reshape(r2,c2)\n",
    "print(b)\n",
    "\n",
    "c=a.dot(b)\n",
    "print(\"Dot product : \\n\",c)\n",
    "print(\"Transpose is: \\n\",c.T)\n"
   ]
  },
  {
   "cell_type": "code",
   "execution_count": 173,
   "id": "0fe70bdf-826c-46a2-b651-0f9eaf0e4a0a",
   "metadata": {},
   "outputs": [
    {
     "name": "stdout",
     "output_type": "stream",
     "text": [
      "Enter the matrix 1 row and column :\n"
     ]
    },
    {
     "name": "stdout",
     "output_type": "stream",
     "text": [
      " 3 3\n"
     ]
    },
    {
     "name": "stdout",
     "output_type": "stream",
     "text": [
      "Enter the elements of mat 1 : \n"
     ]
    },
    {
     "name": "stdout",
     "output_type": "stream",
     "text": [
      " 1 2 3\n",
      " 4 5 6\n",
      " 7 8 9\n"
     ]
    },
    {
     "name": "stdout",
     "output_type": "stream",
     "text": [
      "Enter the matrix 2 row and column : \n"
     ]
    },
    {
     "name": "stdout",
     "output_type": "stream",
     "text": [
      " 3 3\n"
     ]
    },
    {
     "name": "stdout",
     "output_type": "stream",
     "text": [
      "Enter the elements of mat 2 : \n"
     ]
    },
    {
     "name": "stdout",
     "output_type": "stream",
     "text": [
      " 1 2 3\n",
      " 4 5 6\n",
      " 7 8 9\n"
     ]
    },
    {
     "name": "stdout",
     "output_type": "stream",
     "text": [
      "Matrix 1 : \n",
      " [[1 2 3]\n",
      " [4 5 6]\n",
      " [7 8 9]]\n",
      "Matrix 2 : \n",
      " [[1 2 3]\n",
      " [4 5 6]\n",
      " [7 8 9]]\n",
      "Matrix Multiplication : \n",
      " [[ 30  36  42]\n",
      " [ 66  81  96]\n",
      " [102 126 150]]\n",
      "Transposed Matrix : \n",
      " [[ 30  66 102]\n",
      " [ 36  81 126]\n",
      " [ 42  96 150]]\n"
     ]
    }
   ],
   "source": [
    "print(\"Enter the matrix 1 row and column :\")\n",
    "m,n=list(map(int,input().split()))\n",
    "m1=[]\n",
    "print(\"Enter the elements of mat 1 : \")\n",
    "for i in range(m):\n",
    "    row=list(map(int,input().split()))\n",
    "    m1.append(row)\n",
    "x=np.array(m1).reshape(m,n)\n",
    "\n",
    "print(\"Enter the matrix 2 row and column : \")\n",
    "p,q=list(map(int,input().split()))\n",
    "m2=[]\n",
    "print(\"Enter the elements of mat 2 : \")\n",
    "for i in range(p):\n",
    "    row1=list(map(int,input().split()))\n",
    "    m2.append(row1)\n",
    "y=np.array(m2).reshape(p,q)\n",
    "\n",
    "print(\"Matrix 1 : \\n\",x)\n",
    "print(\"Matrix 2 : \\n\",y)\n",
    "\n",
    "c=np.dot(x,y)\n",
    "print(\"Matrix Multiplication : \\n\",c)\n",
    "print(\"Transposed Matrix : \\n\",c.T)\n"
   ]
  },
  {
   "cell_type": "code",
   "execution_count": 253,
   "id": "939cb7b1-ef2a-4b93-bb91-d3e785f4eae6",
   "metadata": {},
   "outputs": [
    {
     "name": "stdout",
     "output_type": "stream",
     "text": [
      "Mat A :\n",
      " [[0 1]\n",
      " [2 3]]\n",
      "\n",
      "Mat B :\n",
      " [[4 5]\n",
      " [6 7]]\n",
      "\n",
      "hstack\n",
      "[[0 1 4 5]\n",
      " [2 3 6 7]]\n",
      "\n",
      "vstack\n",
      "[[0 1]\n",
      " [2 3]\n",
      " [4 5]\n",
      " [6 7]]\n",
      "\n",
      "dstack\n",
      "[[[0 4]\n",
      "  [1 5]]\n",
      "\n",
      " [[2 6]\n",
      "  [3 7]]]\n",
      "\n",
      "hsplit\n",
      "[array([[0],\n",
      "       [2]]), array([[1],\n",
      "       [3]])]\n",
      "\n",
      "vsplit\n",
      "[array([[0, 1]]), array([[2, 3]])]\n",
      "\n",
      "Concatenate row\n",
      "[[0 1]\n",
      " [2 3]\n",
      " [4 5]\n",
      " [6 7]]\n",
      "\n",
      "Concatenate column\n",
      "[[0 1 4 5]\n",
      " [2 3 6 7]]\n",
      "\n",
      "Array Split\n",
      "[array([[0, 1]]), array([[2, 3]])]\n"
     ]
    }
   ],
   "source": [
    "a=np.arange(4).reshape(2,2)\n",
    "b=np.arange(4,8).reshape(2,2)\n",
    "print(\"Mat A :\\n\",a)\n",
    "print(\"\\nMat B :\\n\",b)\n",
    "\n",
    "print(\"\\nhstack\")\n",
    "c=np.hstack((a,b))\n",
    "print(c)\n",
    "\n",
    "print(\"\\nvstack\")\n",
    "d=np.vstack((a,b))\n",
    "print(d)\n",
    "\n",
    "print(\"\\ndstack\")\n",
    "g=np.dstack((a,b))\n",
    "print(g)\n",
    "\n",
    "print(\"\\nhsplit\")\n",
    "e=np.hsplit(a,2)\n",
    "print(e)\n",
    "\n",
    "print(\"\\nvsplit\")\n",
    "f=np.vsplit(a,2)\n",
    "print(f)\n",
    "\n",
    "print(\"\\nConcatenate row\")\n",
    "h=np.concatenate((a,b),axis=0)\n",
    "print(h)\n",
    "print(\"\\nConcatenate column\")\n",
    "i=np.concatenate((a,b),axis=1)\n",
    "print(i)\n",
    "\n",
    "print(\"\\nArray Split\")\n",
    "j=np.array_split(a,2)\n",
    "print(j)"
   ]
  },
  {
   "cell_type": "code",
   "execution_count": 18,
   "id": "466cff60-7089-48e7-85d8-3a601ebd4298",
   "metadata": {},
   "outputs": [
    {
     "name": "stdout",
     "output_type": "stream",
     "text": [
      "Mat A :\n",
      " [[ 1  2  3  4]\n",
      " [ 5  6  7  8]\n",
      " [ 9 10 11 12]\n",
      " [13 14 15 16]]\n",
      "\n",
      "Mat B :\n",
      " [[17 18 19 20]\n",
      " [21 22 23 24]\n",
      " [25 26 27 28]\n",
      " [29 30 31 32]]\n",
      "\n",
      "hstack\n",
      "[[ 1  2  3  4 17 18 19 20]\n",
      " [ 5  6  7  8 21 22 23 24]\n",
      " [ 9 10 11 12 25 26 27 28]\n",
      " [13 14 15 16 29 30 31 32]]\n",
      "\n",
      "vstack\n",
      "[[ 1  2  3  4]\n",
      " [ 5  6  7  8]\n",
      " [ 9 10 11 12]\n",
      " [13 14 15 16]\n",
      " [17 18 19 20]\n",
      " [21 22 23 24]\n",
      " [25 26 27 28]\n",
      " [29 30 31 32]]\n",
      "\n",
      "dstack\n",
      "[[[ 1 17]\n",
      "  [ 2 18]\n",
      "  [ 3 19]\n",
      "  [ 4 20]]\n",
      "\n",
      " [[ 5 21]\n",
      "  [ 6 22]\n",
      "  [ 7 23]\n",
      "  [ 8 24]]\n",
      "\n",
      " [[ 9 25]\n",
      "  [10 26]\n",
      "  [11 27]\n",
      "  [12 28]]\n",
      "\n",
      " [[13 29]\n",
      "  [14 30]\n",
      "  [15 31]\n",
      "  [16 32]]]\n",
      "\n",
      "hsplit\n",
      "[array([[ 1,  2],\n",
      "       [ 5,  6],\n",
      "       [ 9, 10],\n",
      "       [13, 14]]), array([[ 3,  4],\n",
      "       [ 7,  8],\n",
      "       [11, 12],\n",
      "       [15, 16]])]\n",
      "\n",
      "vsplit\n",
      "[array([[1, 2, 3, 4],\n",
      "       [5, 6, 7, 8]]), array([[ 9, 10, 11, 12],\n",
      "       [13, 14, 15, 16]])]\n",
      "\n",
      "Concatenate row\n",
      "[[ 1  2  3  4]\n",
      " [ 5  6  7  8]\n",
      " [ 9 10 11 12]\n",
      " [13 14 15 16]\n",
      " [17 18 19 20]\n",
      " [21 22 23 24]\n",
      " [25 26 27 28]\n",
      " [29 30 31 32]]\n",
      "\n",
      "Concatenate column\n",
      "[[ 1  2  3  4 17 18 19 20]\n",
      " [ 5  6  7  8 21 22 23 24]\n",
      " [ 9 10 11 12 25 26 27 28]\n",
      " [13 14 15 16 29 30 31 32]]\n",
      "\n",
      "Array Split\n",
      "[array([[1, 2, 3, 4]]), array([[5, 6, 7, 8]]), array([[ 9, 10, 11, 12]]), array([[13, 14, 15, 16]])]\n"
     ]
    }
   ],
   "source": [
    "import numpy as np\n",
    "a=np.arange(1,17).reshape(4,4)\n",
    "b=np.arange(17,33).reshape(4,4)\n",
    "print(\"Mat A :\\n\",a)\n",
    "print(\"\\nMat B :\\n\",b)\n",
    "\n",
    "print(\"\\nhstack\")\n",
    "c=np.hstack((a,b))\n",
    "print(c)\n",
    "\n",
    "print(\"\\nvstack\")\n",
    "d=np.vstack((a,b))\n",
    "print(d)\n",
    "\n",
    "print(\"\\ndstack\")\n",
    "e=np.dstack((a,b))\n",
    "print(e)\n",
    "\n",
    "print(\"\\nhsplit\")\n",
    "f=np.hsplit(a,2)\n",
    "print(f)\n",
    "\n",
    "print(\"\\nvsplit\")\n",
    "g=np.vsplit(a,2)\n",
    "print(g)\n",
    "\n",
    "print(\"\\nConcatenate row\")\n",
    "h=np.concatenate((a,b),axis=0)\n",
    "print(h)\n",
    "print(\"\\nConcatenate column\")\n",
    "i=np.concatenate((a,b),axis=1)\n",
    "print(i)\n",
    "\n",
    "print(\"\\nArray Split\")\n",
    "j=np.array_split(a,4)\n",
    "print(j)"
   ]
  },
  {
   "cell_type": "code",
   "execution_count": 323,
   "id": "50ea67bb-be72-4f8b-94a3-df36fff99fa5",
   "metadata": {},
   "outputs": [
    {
     "name": "stdout",
     "output_type": "stream",
     "text": [
      "[30, 36, 42]\n",
      "[66, 81, 96]\n",
      "[102, 126, 150]\n"
     ]
    }
   ],
   "source": [
    "a = [[1, 2, 3], [4, 5, 6], [7, 8, 9]]\n",
    "b = [[1, 2, 3], [4, 5, 6], [7, 8, 9]]\n",
    "r = [[0, 0, 0], [0, 0, 0], [0, 0, 0]]\n",
    "\n",
    "for i in range(len(a)):\n",
    "    for j in range(len(a)):\n",
    "        for k in range(len(a)):\n",
    "            r[i][j] += a[i][k] * b[k][j]\n",
    "for i in r:\n",
    "    print(i)"
   ]
  }
 ],
 "metadata": {
  "kernelspec": {
   "display_name": "Python 3 (ipykernel)",
   "language": "python",
   "name": "python3"
  },
  "language_info": {
   "codemirror_mode": {
    "name": "ipython",
    "version": 3
   },
   "file_extension": ".py",
   "mimetype": "text/x-python",
   "name": "python",
   "nbconvert_exporter": "python",
   "pygments_lexer": "ipython3",
   "version": "3.12.4"
  }
 },
 "nbformat": 4,
 "nbformat_minor": 5
}
