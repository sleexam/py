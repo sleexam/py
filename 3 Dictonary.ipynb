{
 "cells": [
  {
   "cell_type": "code",
   "execution_count": 8,
   "id": "b9edb4ce-15f9-4def-9bd0-97b8f94f62fd",
   "metadata": {},
   "outputs": [
    {
     "name": "stdout",
     "output_type": "stream",
     "text": [
      "<class 'dict'>\n",
      "dict_items([('Name', 'Sudu'), ('Age', 22)])\n"
     ]
    }
   ],
   "source": [
    "dict={\"Name\":\"Sudu\",\"Age\":22}\n",
    "print(type(dict))\n",
    "print(dict.items())"
   ]
  },
  {
   "cell_type": "code",
   "execution_count": 14,
   "id": "7d149e89-6f68-4a83-9856-b70fb751dd4f",
   "metadata": {},
   "outputs": [
    {
     "name": "stdout",
     "output_type": "stream",
     "text": [
      "{'Name': 'Sudu', 'Age': 22, 'Place': 'Shivamogga'}\n",
      "{'Name': 'Sudu', 'Age': 22, 'Place': 'Mysuru'}\n"
     ]
    }
   ],
   "source": [
    "dict={\"Name\":\"Sudu\",\"Age\":22}\n",
    "dict[\"Place\"]=\"Shivamogga\"\n",
    "print(dict)\n",
    "dict.update({\"Place\":\"Mysuru\"})\n",
    "print(dict)"
   ]
  },
  {
   "cell_type": "code",
   "execution_count": 20,
   "id": "2b42de63-7f09-492c-8699-fd4ff09efa09",
   "metadata": {},
   "outputs": [
    {
     "name": "stdout",
     "output_type": "stream",
     "text": [
      "{'Name': 'Sudu', 'Age': 22, 'Place': 'Mysuru'}\n",
      "{'Name': 'Sudu', 'Age': 22, 'Place': 'Mysuru'}\n"
     ]
    }
   ],
   "source": [
    "dict={'Name': 'Sudu', 'Age': 22, 'Place': 'Mysuru'}\n",
    "dict2=dict.copy()\n",
    "print(dict)\n",
    "print(dict2)"
   ]
  },
  {
   "cell_type": "code",
   "execution_count": 26,
   "id": "e9cb7c42-c978-4d25-9647-601afd7e95a2",
   "metadata": {},
   "outputs": [
    {
     "name": "stdout",
     "output_type": "stream",
     "text": [
      "{}\n"
     ]
    }
   ],
   "source": [
    "dict={'Name': 'Sudu', 'Age': 22, 'Place': 'Mysuru'}\n",
    "dict.clear()\n",
    "print(dict)"
   ]
  },
  {
   "cell_type": "code",
   "execution_count": 3,
   "id": "9cd81ce2-cb4a-4979-b04d-0d81c0352827",
   "metadata": {},
   "outputs": [
    {
     "name": "stdout",
     "output_type": "stream",
     "text": [
      "dict_keys(['Name', 'Age', 'Place'])\n"
     ]
    }
   ],
   "source": [
    "dict={'Name': 'Sudu', 'Age': 22, 'Place': 'Mysuru'}\n",
    "print(dict.keys())"
   ]
  },
  {
   "cell_type": "code",
   "execution_count": 32,
   "id": "0c652f67-1ef4-479b-bf5f-21a98c4939a7",
   "metadata": {},
   "outputs": [
    {
     "name": "stdout",
     "output_type": "stream",
     "text": [
      "dict_values(['Sudu', 22, 'Mysuru'])\n"
     ]
    }
   ],
   "source": [
    "dict={'Name': 'Sudu', 'Age': 22, 'Place': 'Mysuru'}\n",
    "print(dict.values())"
   ]
  },
  {
   "cell_type": "code",
   "execution_count": 12,
   "id": "a3f74508-b08e-49c5-b03a-08b6af92e087",
   "metadata": {},
   "outputs": [
    {
     "name": "stdout",
     "output_type": "stream",
     "text": [
      "Sudu\n",
      "22\n",
      "Mysuru\n"
     ]
    }
   ],
   "source": [
    "dict={'Name': 'Sudu', 'Age': 22, 'Place': 'Mysuru'}\n",
    "for items in dict.values():\n",
    "    print(items)"
   ]
  },
  {
   "cell_type": "code",
   "execution_count": 16,
   "id": "af231467-7382-4661-95f4-114b0c8918c5",
   "metadata": {},
   "outputs": [
    {
     "name": "stdout",
     "output_type": "stream",
     "text": [
      "Name\n",
      "Age\n",
      "Place\n"
     ]
    }
   ],
   "source": [
    "dict={'Name': 'Sudu', 'Age': 22, 'Place': 'Mysuru'}\n",
    "for items in dict.keys():\n",
    "    print(items)"
   ]
  },
  {
   "cell_type": "code",
   "execution_count": 2,
   "id": "460b746e-2c0c-4fd6-a7b0-04d0bb5df119",
   "metadata": {},
   "outputs": [
    {
     "name": "stdout",
     "output_type": "stream",
     "text": [
      "{'Name': 'Sudu', 'Age': 22}\n"
     ]
    }
   ],
   "source": [
    "dict={'Name': 'Sudu', 'Age': 22, 'Place': 'Mysuru'}\n",
    "del dict[\"Place\"]\n",
    "print(dict)"
   ]
  },
  {
   "cell_type": "code",
   "execution_count": 18,
   "id": "f006749f-7a97-41e0-9bed-11c0c073de2e",
   "metadata": {},
   "outputs": [
    {
     "name": "stdout",
     "output_type": "stream",
     "text": [
      "Sudu\n"
     ]
    }
   ],
   "source": [
    "dict={'Name': 'Sudu', 'Age': 22}\n",
    "a=dict.get('Name')\n",
    "print(a)"
   ]
  },
  {
   "cell_type": "code",
   "execution_count": 4,
   "id": "45669850-9e78-4e1c-8db0-18cdb0e4bba7",
   "metadata": {},
   "outputs": [
    {
     "name": "stdout",
     "output_type": "stream",
     "text": [
      "{'Name': 'Sudu', 'Age': 22}\n"
     ]
    }
   ],
   "source": [
    "dict={'Name': 'Sudu', 'Age': 22,'College': 'NIE'}\n",
    "dict.pop(\"College\")\n",
    "print(dict)"
   ]
  },
  {
   "cell_type": "markdown",
   "id": "2ecec4fe-e25c-458e-a74f-caf2ebde049f",
   "metadata": {},
   "source": [
    "2. Dictonary in List\n",
    "   "
   ]
  },
  {
   "cell_type": "code",
   "execution_count": 35,
   "id": "a400e3ae-cfe7-45b6-a50f-c3e2841b55c7",
   "metadata": {},
   "outputs": [
    {
     "name": "stdout",
     "output_type": "stream",
     "text": [
      "[{'Name': 'Sudu', 'Age': 22}, {'Place': 'Mysuru'}]\n"
     ]
    }
   ],
   "source": [
    "x=[{'Name': 'Sudu', 'Age': 22}]\n",
    "y=[{'Place': 'Mysuru'}]\n",
    "x.extend(y)\n",
    "print(x)"
   ]
  },
  {
   "cell_type": "code",
   "execution_count": 17,
   "id": "daf8626f-5347-4353-8e83-6415b5e3ffd6",
   "metadata": {},
   "outputs": [
    {
     "name": "stdout",
     "output_type": "stream",
     "text": [
      "<class 'list'>\n"
     ]
    }
   ],
   "source": [
    "x=[{'Name': 'Sudu', 'Age': 22}]\n",
    "print(type(x))"
   ]
  },
  {
   "cell_type": "code",
   "execution_count": 21,
   "id": "3c261a1b-12f6-407f-94cb-95342279d533",
   "metadata": {},
   "outputs": [
    {
     "name": "stdout",
     "output_type": "stream",
     "text": [
      "[{'Name': 'Sudu', 'Age': 22, 'Place': 'Mysuru'}, {'Name': 'Ram', 'Age': 23, 'Place': 'Shivamogga'}]\n"
     ]
    }
   ],
   "source": [
    "x=[{'Name': 'Sudu', 'Age': 22, 'Place': 'Mysuru'}]\n",
    "x.append({'Name': 'Ram', 'Age': 23, 'Place': 'Shivamogga'})\n",
    "print(x)"
   ]
  },
  {
   "cell_type": "code",
   "execution_count": 23,
   "id": "6dc90dcd-1828-46ec-a712-ec7afc71b99e",
   "metadata": {},
   "outputs": [
    {
     "name": "stdout",
     "output_type": "stream",
     "text": [
      "[{'Name': 'Sudu', 'Age': 22, 'Place': 'Mysuru'}]\n"
     ]
    }
   ],
   "source": [
    "x=[{'Name': 'Sudu', 'Age': 22, 'Place': 'Mysuru'}]\n",
    "y=x.copy()\n",
    "print(y)"
   ]
  },
  {
   "cell_type": "code",
   "execution_count": 128,
   "id": "be2329bc-4710-45e8-9ffc-0e9f457d9a79",
   "metadata": {},
   "outputs": [
    {
     "name": "stdout",
     "output_type": "stream",
     "text": [
      "Sudu 22\n",
      "Ram 23\n"
     ]
    }
   ],
   "source": [
    "x=[{'Name': 'Sudu', 'Age': 22, 'Place': 'Mysuru', 'College': 'NIE'}, \n",
    "   {'Name': 'Ram', 'Age': 23, 'Place': 'Shivamogga', 'College': 'NIE'}]\n",
    "for i in x:\n",
    "    print(i[\"Name\"],i[\"Age\"])"
   ]
  },
  {
   "cell_type": "code",
   "execution_count": 25,
   "id": "e83797fa-cb10-4daa-9c34-855675607bdf",
   "metadata": {},
   "outputs": [
    {
     "name": "stdout",
     "output_type": "stream",
     "text": [
      "2\n"
     ]
    }
   ],
   "source": [
    "x=[{'Name': 'Sudu', 'Age': 22, 'Place': 'Mysuru'}, \n",
    "   {'Name': 'Ram', 'Age': 23, 'Place': 'Shivamogga'}]\n",
    "print(len(x))"
   ]
  },
  {
   "cell_type": "code",
   "execution_count": 27,
   "id": "ffb37095-4b5c-4c2d-a4a3-ba53ced7040a",
   "metadata": {},
   "outputs": [
    {
     "name": "stdout",
     "output_type": "stream",
     "text": [
      "[{'Name': 'Ram', 'Age': 23, 'Place': 'Shivamogga'}, {'Name': 'Sudu', 'Age': 22, 'Place': 'Mysuru'}]\n"
     ]
    }
   ],
   "source": [
    "x=[{'Name': 'Sudu', 'Age': 22, 'Place': 'Mysuru'}, \n",
    "   {'Name': 'Ram', 'Age': 23, 'Place': 'Shivamogga'}]\n",
    "x.reverse()\n",
    "print(x)"
   ]
  },
  {
   "cell_type": "code",
   "execution_count": 37,
   "id": "a6c089c3-8443-415b-a779-8c44c80f65a5",
   "metadata": {},
   "outputs": [
    {
     "name": "stdout",
     "output_type": "stream",
     "text": [
      "[{'Name': 'Sudu', 'Age': 22, 'Place': 'Mysuru'}]\n"
     ]
    }
   ],
   "source": [
    "x=[{'Name': 'Ram', 'Age': 23, 'Place': 'Shivamogga'}, \n",
    "   {'Name': 'Sudu', 'Age': 22, 'Place': 'Mysuru'}]\n",
    "x.pop(0)\n",
    "print(x)"
   ]
  },
  {
   "cell_type": "code",
   "execution_count": 39,
   "id": "760e4d6d-f707-420b-be5d-50d6cfba3c5e",
   "metadata": {},
   "outputs": [
    {
     "name": "stdout",
     "output_type": "stream",
     "text": [
      "[]\n"
     ]
    }
   ],
   "source": [
    "x=[{'Name': 'Sudu', 'Age': 22, 'Place': 'Mysuru'}]\n",
    "x.remove({'Name': 'Sudu', 'Age': 22, 'Place': 'Mysuru'})\n",
    "print(x)"
   ]
  },
  {
   "cell_type": "code",
   "execution_count": 43,
   "id": "e7e0e9ab-a697-4ce8-9ebb-e49ff1b149dc",
   "metadata": {},
   "outputs": [
    {
     "name": "stdout",
     "output_type": "stream",
     "text": [
      "Enter a word : Hello\n"
     ]
    },
    {
     "name": "stdout",
     "output_type": "stream",
     "text": [
      "{'H': 1, 'e': 1, 'l': 2, 'o': 1}\n"
     ]
    }
   ],
   "source": [
    "word=input(\"Enter a word :\")\n",
    "dict={}\n",
    "for i in word:\n",
    "    if i in dict:\n",
    "        dict[i]+=1\n",
    "    else:\n",
    "        dict[i]=1\n",
    "print(str(dict))\n",
    "#for i in dict:\n",
    " #   print({ i : dict[i]})\n"
   ]
  },
  {
   "cell_type": "markdown",
   "id": "018a48cf-a3a4-492d-b7f1-cfc260669897",
   "metadata": {},
   "source": [
    "3. Sets"
   ]
  },
  {
   "cell_type": "code",
   "execution_count": 217,
   "id": "5589c633-6061-4545-800b-143c7bc58909",
   "metadata": {},
   "outputs": [
    {
     "name": "stdout",
     "output_type": "stream",
     "text": [
      "<class 'set'>\n"
     ]
    }
   ],
   "source": [
    "a={1,2,3,4}\n",
    "print(type(a))"
   ]
  },
  {
   "cell_type": "code",
   "execution_count": 199,
   "id": "3b3b19ab-f1d2-43f2-8f39-4a6beb00ce83",
   "metadata": {},
   "outputs": [
    {
     "name": "stdout",
     "output_type": "stream",
     "text": [
      "{1, 2, 3, 4, 5}\n"
     ]
    }
   ],
   "source": [
    "a={1,2,3,4}\n",
    "a.add(5)\n",
    "print(a)"
   ]
  },
  {
   "cell_type": "code",
   "execution_count": 201,
   "id": "0d9cd3fd-b350-4154-ab93-411b09088a95",
   "metadata": {},
   "outputs": [
    {
     "name": "stdout",
     "output_type": "stream",
     "text": [
      "{1, 2, 3, 4, 6, 7}\n"
     ]
    }
   ],
   "source": [
    "a={1,2,3,4}\n",
    "a.update([6,7])\n",
    "print(a)"
   ]
  },
  {
   "cell_type": "code",
   "execution_count": 55,
   "id": "8362d7f8-6a71-4b3b-8d06-9eb95a4c0df1",
   "metadata": {},
   "outputs": [
    {
     "name": "stdout",
     "output_type": "stream",
     "text": [
      "{1, 2, 3, 4, 5, 6}\n"
     ]
    }
   ],
   "source": [
    "a={1, 2, 3, 4, 5, 6, 7}\n",
    "a.remove(7)\n",
    "print(a)"
   ]
  },
  {
   "cell_type": "code",
   "execution_count": 63,
   "id": "2802e209-3fd2-44a6-b118-432991220802",
   "metadata": {},
   "outputs": [
    {
     "name": "stdout",
     "output_type": "stream",
     "text": [
      "{1, 2, 3, 5, 6}\n"
     ]
    }
   ],
   "source": [
    "a={1, 2, 3, 4, 5, 6}\n",
    "a.discard(4)\n",
    "print(a)"
   ]
  },
  {
   "cell_type": "code",
   "execution_count": 215,
   "id": "7805cb54-5fbd-43aa-a494-4813e92bff22",
   "metadata": {},
   "outputs": [
    {
     "name": "stdout",
     "output_type": "stream",
     "text": [
      "set()\n"
     ]
    }
   ],
   "source": [
    "a={1, 2, 3, 4, 6, 7}\n",
    "a.clear()\n",
    "print(a)"
   ]
  },
  {
   "cell_type": "code",
   "execution_count": 221,
   "id": "422b4258-aaaf-4eff-9656-c15cb6d55e75",
   "metadata": {},
   "outputs": [
    {
     "name": "stdout",
     "output_type": "stream",
     "text": [
      "{1, 2, 3, 4, 5, 6, 7, 8}\n"
     ]
    }
   ],
   "source": [
    "a={1,2,3,4}\n",
    "b={5,6,7,8}\n",
    "c=a.union(b)\n",
    "print(c)"
   ]
  },
  {
   "cell_type": "code",
   "execution_count": 223,
   "id": "ace5d21e-e74c-4fcd-80f7-394fb56380f2",
   "metadata": {},
   "outputs": [
    {
     "name": "stdout",
     "output_type": "stream",
     "text": [
      "{2, 4}\n"
     ]
    }
   ],
   "source": [
    "a={1,2,3,4}\n",
    "b={2,6,4,8}\n",
    "c=a.intersection(b)\n",
    "print(c)"
   ]
  },
  {
   "cell_type": "code",
   "execution_count": 225,
   "id": "9297874c-2bd6-4e44-98fe-2163ca18336e",
   "metadata": {},
   "outputs": [
    {
     "name": "stdout",
     "output_type": "stream",
     "text": [
      "{1, 3}\n"
     ]
    }
   ],
   "source": [
    "a={1,2,3,4}\n",
    "b={2,6,4,8}\n",
    "c=a.difference(b)\n",
    "print(c)"
   ]
  },
  {
   "cell_type": "code",
   "execution_count": 5,
   "id": "694ac73b",
   "metadata": {},
   "outputs": [
    {
     "name": "stdout",
     "output_type": "stream",
     "text": [
      "{8, 6}\n"
     ]
    }
   ],
   "source": [
    "a={1,2,3,4}\n",
    "b={2,6,4,8}\n",
    "c=b.difference(a)\n",
    "print(c)"
   ]
  },
  {
   "cell_type": "code",
   "execution_count": 6,
   "id": "dbeaface-badf-4fc5-b08c-9ac7ce434a6a",
   "metadata": {},
   "outputs": [
    {
     "name": "stdout",
     "output_type": "stream",
     "text": [
      "True\n"
     ]
    }
   ],
   "source": [
    "a={1,2,3,4}\n",
    "b={2,4}\n",
    "c=b.issubset(a)\n",
    "print(c)"
   ]
  },
  {
   "cell_type": "code",
   "execution_count": 245,
   "id": "29fef159-74af-4915-8b51-181b89bc9cf1",
   "metadata": {},
   "outputs": [
    {
     "name": "stdout",
     "output_type": "stream",
     "text": [
      "True\n"
     ]
    }
   ],
   "source": [
    "a={1,2,3,4}\n",
    "b={5,6,7,8}\n",
    "c=a.isdisjoint(b)\n",
    "print(c)"
   ]
  },
  {
   "cell_type": "markdown",
   "id": "0036e1ff-9856-4efb-9ede-c02c4f6818d7",
   "metadata": {},
   "source": [
    "4. Tuples "
   ]
  },
  {
   "cell_type": "code",
   "execution_count": 248,
   "id": "2401e2a3-509d-4609-a472-cc3933ffc782",
   "metadata": {},
   "outputs": [
    {
     "name": "stdout",
     "output_type": "stream",
     "text": [
      "<class 'tuple'>\n"
     ]
    }
   ],
   "source": [
    "t=(1,2,3,4,5,6)\n",
    "print(type(t))"
   ]
  },
  {
   "cell_type": "code",
   "execution_count": 250,
   "id": "53790d69-5708-4859-aa52-be8bab587fe6",
   "metadata": {},
   "outputs": [
    {
     "name": "stdout",
     "output_type": "stream",
     "text": [
      "2\n"
     ]
    }
   ],
   "source": [
    "t=(1,2,3,4,5,6)\n",
    "print(t.index(3))"
   ]
  },
  {
   "cell_type": "code",
   "execution_count": 256,
   "id": "75603e11-44e1-4297-afea-06a1664801ec",
   "metadata": {},
   "outputs": [
    {
     "name": "stdout",
     "output_type": "stream",
     "text": [
      "3\n"
     ]
    }
   ],
   "source": [
    "t=(1,2,3,4,3,5,2,2)\n",
    "print(t.count(2))"
   ]
  },
  {
   "cell_type": "code",
   "execution_count": 258,
   "id": "0c89478d-5ba0-4faf-9e9f-b8b6a7c58f10",
   "metadata": {},
   "outputs": [
    {
     "name": "stdout",
     "output_type": "stream",
     "text": [
      "6\n"
     ]
    }
   ],
   "source": [
    "t=(1,2,3,4,5,6)\n",
    "print(len(t))"
   ]
  },
  {
   "cell_type": "code",
   "execution_count": 264,
   "id": "172d0b8e-5cdc-4489-bc87-ee003f41165b",
   "metadata": {},
   "outputs": [
    {
     "name": "stdout",
     "output_type": "stream",
     "text": [
      "2\n"
     ]
    }
   ],
   "source": [
    "t=(1,2,3,4,5,6)\n",
    "print(t[1])"
   ]
  },
  {
   "cell_type": "markdown",
   "id": "e0747bf3-d539-4e4d-8b2b-6c05e74c978c",
   "metadata": {},
   "source": [
    "5. Class"
   ]
  },
  {
   "cell_type": "code",
   "execution_count": 273,
   "id": "8c780784-2302-4ebe-903f-7e550a997e5d",
   "metadata": {},
   "outputs": [
    {
     "name": "stdout",
     "output_type": "stream",
     "text": [
      "Enter Faculty ID : 100\n",
      "Enter Faculty name : Sudu\n",
      "Enter Faculty Salary: 1922992929\n"
     ]
    },
    {
     "name": "stdout",
     "output_type": "stream",
     "text": [
      "\n",
      "Faculty ID is  100\n",
      "Faculty Name is  Sudu\n",
      "Faculty Salary is  1922992929\n"
     ]
    }
   ],
   "source": [
    "class faculty:\n",
    "    def getdata(a):\n",
    "        a.id=input(\"Enter Faculty ID :\")\n",
    "        a.name=input(\"Enter Faculty name :\")\n",
    "        a.salary=input(\"Enter Faculty Salary:\")\n",
    "    def putdata(a):\n",
    "        print(\"\\nFaculty ID is \",a.id)\n",
    "        print(\"Faculty Name is \",a.name)\n",
    "        print(\"Faculty Salary is \",a.salary)\n",
    "a=faculty()\n",
    "a.getdata()\n",
    "a.putdata()"
   ]
  },
  {
   "cell_type": "code",
   "execution_count": 321,
   "id": "6135bdcb-1aff-4d61-9fa2-a648b5a50d49",
   "metadata": {},
   "outputs": [
    {
     "name": "stdout",
     "output_type": "stream",
     "text": [
      "\n",
      "Faculty ID is 100\n",
      "Faculty Name is Sudu\n",
      "Faculty Salary is 100000\n"
     ]
    }
   ],
   "source": [
    "class person:\n",
    "    def __init__(a,id,name,salary):\n",
    "        a.id=id\n",
    "        a.name=name\n",
    "        a.salary=salary\n",
    "    def putdata(a):\n",
    "        print(\"\\nFaculty ID is\",a.id)\n",
    "        print(\"Faculty Name is\",a.name)\n",
    "        print(\"Faculty Salary is\",a.salary)\n",
    "p1=person(100,\"Sudu\",100000)\n",
    "p1.putdata()   "
   ]
  },
  {
   "cell_type": "code",
   "execution_count": 4,
   "id": "e20df52c-18ba-43e3-a2f9-d9b69c1088f3",
   "metadata": {},
   "outputs": [
    {
     "name": "stdout",
     "output_type": "stream",
     "text": [
      "Student ID is 1\n",
      "Student Name is Sudu\n",
      "Student marks is [50, 48, 49, 45, 44, 47]\n",
      "Student Average marks is 47.166666666666664\n"
     ]
    }
   ],
   "source": [
    "class student:\n",
    "    def __init__(a,id,name,marks):\n",
    "        a.id=id\n",
    "        a.name=name\n",
    "        a.marks=marks\n",
    "    def avg(a):\n",
    "        return sum(a.marks)/len(a.marks)\n",
    "    def putdata(a):\n",
    "        print(\"Student ID is\",a.id)\n",
    "        print(\"Student Name is\",a.name)\n",
    "        print(\"Student marks is\",a.marks)\n",
    "        \n",
    "stu=student(1,\"Sudu\",[50,48,49,45,44,47])\n",
    "stu.putdata()\n",
    "print(\"Student Average marks is\",stu.avg())"
   ]
  },
  {
   "cell_type": "code",
   "execution_count": 48,
   "id": "27741bb6-f33e-4bca-a9fb-400e5b976cf6",
   "metadata": {},
   "outputs": [
    {
     "name": "stdout",
     "output_type": "stream",
     "text": [
      "Enter the number of students 2\n"
     ]
    },
    {
     "name": "stdout",
     "output_type": "stream",
     "text": [
      "\n",
      "Enter the details of student 1\n"
     ]
    },
    {
     "name": "stdout",
     "output_type": "stream",
     "text": [
      "Enter the name of Student sudu\n",
      "Enter the marks of subject 34\n",
      "Enter the marks of subject 45\n",
      "Enter the marks of subject 56\n"
     ]
    },
    {
     "name": "stdout",
     "output_type": "stream",
     "text": [
      "\n",
      "Details of Student  1 is\n",
      "ram got  [34, 45, 56]\n",
      "ram got  [34, 45, 56]\n",
      "45.0\n",
      "\n",
      "Enter the details of student 2\n"
     ]
    },
    {
     "ename": "KeyboardInterrupt",
     "evalue": "Interrupted by user",
     "output_type": "error",
     "traceback": [
      "\u001b[1;31m---------------------------------------------------------------------------\u001b[0m",
      "\u001b[1;31mKeyboardInterrupt\u001b[0m                         Traceback (most recent call last)",
      "Cell \u001b[1;32mIn[48], line 20\u001b[0m\n\u001b[0;32m     18\u001b[0m s \u001b[38;5;241m=\u001b[39m students(name,[{}])\n\u001b[0;32m     19\u001b[0m \u001b[38;5;28mprint\u001b[39m(\u001b[38;5;124m\"\u001b[39m\u001b[38;5;130;01m\\n\u001b[39;00m\u001b[38;5;124mEnter the details of student\u001b[39m\u001b[38;5;124m\"\u001b[39m,i\u001b[38;5;241m+\u001b[39m\u001b[38;5;241m1\u001b[39m)\n\u001b[1;32m---> 20\u001b[0m name \u001b[38;5;241m=\u001b[39m \u001b[38;5;28;43minput\u001b[39;49m\u001b[43m(\u001b[49m\u001b[38;5;124;43m\"\u001b[39;49m\u001b[38;5;124;43mEnter the name of Student\u001b[39;49m\u001b[38;5;124;43m\"\u001b[39;49m\u001b[43m)\u001b[49m\n\u001b[0;32m     21\u001b[0m s\u001b[38;5;241m.\u001b[39menterMarks()\n\u001b[0;32m     22\u001b[0m \u001b[38;5;28mprint\u001b[39m(\u001b[38;5;124m\"\u001b[39m\u001b[38;5;130;01m\\n\u001b[39;00m\u001b[38;5;124mDetails of Student \u001b[39m\u001b[38;5;124m\"\u001b[39m,i\u001b[38;5;241m+\u001b[39m\u001b[38;5;241m1\u001b[39m,\u001b[38;5;124m\"\u001b[39m\u001b[38;5;124mis\u001b[39m\u001b[38;5;124m\"\u001b[39m)\n",
      "File \u001b[1;32m~\\AppData\\Roaming\\Python\\Python312\\site-packages\\ipykernel\\kernelbase.py:1282\u001b[0m, in \u001b[0;36mKernel.raw_input\u001b[1;34m(self, prompt)\u001b[0m\n\u001b[0;32m   1280\u001b[0m     msg \u001b[38;5;241m=\u001b[39m \u001b[38;5;124m\"\u001b[39m\u001b[38;5;124mraw_input was called, but this frontend does not support input requests.\u001b[39m\u001b[38;5;124m\"\u001b[39m\n\u001b[0;32m   1281\u001b[0m     \u001b[38;5;28;01mraise\u001b[39;00m StdinNotImplementedError(msg)\n\u001b[1;32m-> 1282\u001b[0m \u001b[38;5;28;01mreturn\u001b[39;00m \u001b[38;5;28;43mself\u001b[39;49m\u001b[38;5;241;43m.\u001b[39;49m\u001b[43m_input_request\u001b[49m\u001b[43m(\u001b[49m\n\u001b[0;32m   1283\u001b[0m \u001b[43m    \u001b[49m\u001b[38;5;28;43mstr\u001b[39;49m\u001b[43m(\u001b[49m\u001b[43mprompt\u001b[49m\u001b[43m)\u001b[49m\u001b[43m,\u001b[49m\n\u001b[0;32m   1284\u001b[0m \u001b[43m    \u001b[49m\u001b[38;5;28;43mself\u001b[39;49m\u001b[38;5;241;43m.\u001b[39;49m\u001b[43m_parent_ident\u001b[49m\u001b[43m[\u001b[49m\u001b[38;5;124;43m\"\u001b[39;49m\u001b[38;5;124;43mshell\u001b[39;49m\u001b[38;5;124;43m\"\u001b[39;49m\u001b[43m]\u001b[49m\u001b[43m,\u001b[49m\n\u001b[0;32m   1285\u001b[0m \u001b[43m    \u001b[49m\u001b[38;5;28;43mself\u001b[39;49m\u001b[38;5;241;43m.\u001b[39;49m\u001b[43mget_parent\u001b[49m\u001b[43m(\u001b[49m\u001b[38;5;124;43m\"\u001b[39;49m\u001b[38;5;124;43mshell\u001b[39;49m\u001b[38;5;124;43m\"\u001b[39;49m\u001b[43m)\u001b[49m\u001b[43m,\u001b[49m\n\u001b[0;32m   1286\u001b[0m \u001b[43m    \u001b[49m\u001b[43mpassword\u001b[49m\u001b[38;5;241;43m=\u001b[39;49m\u001b[38;5;28;43;01mFalse\u001b[39;49;00m\u001b[43m,\u001b[49m\n\u001b[0;32m   1287\u001b[0m \u001b[43m\u001b[49m\u001b[43m)\u001b[49m\n",
      "File \u001b[1;32m~\\AppData\\Roaming\\Python\\Python312\\site-packages\\ipykernel\\kernelbase.py:1325\u001b[0m, in \u001b[0;36mKernel._input_request\u001b[1;34m(self, prompt, ident, parent, password)\u001b[0m\n\u001b[0;32m   1322\u001b[0m \u001b[38;5;28;01mexcept\u001b[39;00m \u001b[38;5;167;01mKeyboardInterrupt\u001b[39;00m:\n\u001b[0;32m   1323\u001b[0m     \u001b[38;5;66;03m# re-raise KeyboardInterrupt, to truncate traceback\u001b[39;00m\n\u001b[0;32m   1324\u001b[0m     msg \u001b[38;5;241m=\u001b[39m \u001b[38;5;124m\"\u001b[39m\u001b[38;5;124mInterrupted by user\u001b[39m\u001b[38;5;124m\"\u001b[39m\n\u001b[1;32m-> 1325\u001b[0m     \u001b[38;5;28;01mraise\u001b[39;00m \u001b[38;5;167;01mKeyboardInterrupt\u001b[39;00m(msg) \u001b[38;5;28;01mfrom\u001b[39;00m \u001b[38;5;28;01mNone\u001b[39;00m\n\u001b[0;32m   1326\u001b[0m \u001b[38;5;28;01mexcept\u001b[39;00m \u001b[38;5;167;01mException\u001b[39;00m:\n\u001b[0;32m   1327\u001b[0m     \u001b[38;5;28mself\u001b[39m\u001b[38;5;241m.\u001b[39mlog\u001b[38;5;241m.\u001b[39mwarning(\u001b[38;5;124m\"\u001b[39m\u001b[38;5;124mInvalid Message:\u001b[39m\u001b[38;5;124m\"\u001b[39m, exc_info\u001b[38;5;241m=\u001b[39m\u001b[38;5;28;01mTrue\u001b[39;00m)\n",
      "\u001b[1;31mKeyboardInterrupt\u001b[0m: Interrupted by user"
     ]
    }
   ],
   "source": []
  },
  {
   "cell_type": "code",
   "execution_count": 12,
   "id": "d9832bef-0b8f-42a0-9e2f-24bad55424e0",
   "metadata": {},
   "outputs": [
    {
     "name": "stdout",
     "output_type": "stream",
     "text": [
      "Enter the number of students:  2\n"
     ]
    },
    {
     "name": "stdout",
     "output_type": "stream",
     "text": [
      "\n",
      "Enter the details of student 1\n"
     ]
    },
    {
     "name": "stdout",
     "output_type": "stream",
     "text": [
      "Enter the name of Student:  Subbu\n",
      "Enter subject 1 marks:  50\n",
      "Enter subject 2 marks:  49\n",
      "Enter subject 3 marks:  48\n"
     ]
    },
    {
     "name": "stdout",
     "output_type": "stream",
     "text": [
      "\n",
      "Details of Student 1 is:\n",
      "Subbu got [50, 49, 48]\n",
      "Average marks: 49.0\n",
      "\n",
      "\n",
      "Enter the details of student 2\n"
     ]
    },
    {
     "name": "stdout",
     "output_type": "stream",
     "text": [
      "Enter the name of Student:  Ram\n",
      "Enter subject 1 marks:  49\n",
      "Enter subject 2 marks:  48\n",
      "Enter subject 3 marks:  47\n"
     ]
    },
    {
     "name": "stdout",
     "output_type": "stream",
     "text": [
      "\n",
      "Details of Student 2 is:\n",
      "Ram got [49, 48, 47]\n",
      "Average marks: 48.0\n",
      "\n"
     ]
    }
   ],
   "source": [
    "class Student:\n",
    "    def __init__(self, name):\n",
    "        self.name = name\n",
    "        self.marks = []\n",
    "\n",
    "    def enterMarks(self):\n",
    "        for i in range(3):\n",
    "            m = int(input(f\"Enter subject {i+1} marks: \"))\n",
    "            self.marks.append(m)\n",
    "\n",
    "    def display(self):\n",
    "        print(f\"{self.name} got {self.marks}\")\n",
    "\n",
    "    def average(self):\n",
    "        return sum(self.marks) / len(self.marks)\n",
    "\n",
    "n = int(input(\"Enter the number of students: \"))\n",
    "\n",
    "for i in range(n):\n",
    "    print(f\"\\nEnter the details of student {i+1}\")\n",
    "    name = input(\"Enter the name of Student: \")\n",
    "    s = Student(name)\n",
    "    s.enterMarks()\n",
    "    print(f\"\\nDetails of Student {i+1} is:\")\n",
    "    s.display()\n",
    "    print(f\"Average marks: {s.average()}\\n\")"
   ]
  },
  {
   "cell_type": "code",
   "execution_count": 90,
   "id": "79dd6672-41e8-4eb9-ab19-21151b286ef0",
   "metadata": {},
   "outputs": [
    {
     "name": "stdout",
     "output_type": "stream",
     "text": [
      "Addition is\n",
      "-1 + 13i\n",
      "Subtraction is\n",
      "5 + 6i\n",
      "Multiplication is\n",
      "-72 + -1i\n",
      "Division is\n",
      "0.1411764705882353 + -0.8352941176470589i\n"
     ]
    }
   ],
   "source": [
    "#Using Functions\n",
    "class complex:\n",
    "    def __init__(self,real,img):\n",
    "        self.real=real\n",
    "        self.img=img\n",
    "        \n",
    "    def add(self,number):\n",
    "        self.real=self.real+number.real\n",
    "        self.img=self.img+number.img\n",
    "        result=complex(self.real,self.img)\n",
    "        return result\n",
    "        \n",
    "    def sub(self,number):\n",
    "        self.real=self.real-number.real\n",
    "        self.img=self.img-number.img\n",
    "        result=complex(self.real,self.img)\n",
    "        return result\n",
    "        \n",
    "    def mul(self, number):\n",
    "        result_real = self.real * number.real - self.img * number.img\n",
    "        result_img = self.real * number.img + self.img * number.real\n",
    "        return complex(result_real, result_img)\n",
    "        \n",
    "    def div(self, number):\n",
    "        denominator = number.real ** 2 + number.img ** 2\n",
    "        result_real = (self.real * number.real + self.img * number.img) / denominator\n",
    "        result_img = (self.img * number.real - self.real * number.img) / denominator\n",
    "        return complex(result_real, result_img)\n",
    "\n",
    "    def display(self):\n",
    "        print(f\"{self.real} + {self.img}i\")\n",
    "\n",
    "n1=complex(5,6)\n",
    "n2=complex(-6,7)\n",
    "\n",
    "print(\"Addition is\")\n",
    "result=n1.add(n2)\n",
    "result.display()\n",
    "\n",
    "print(\"Subtraction is\")\n",
    "result=n1.sub(n2)\n",
    "result.display()\n",
    "\n",
    "print(\"Multiplication is\")\n",
    "result=n1.mul(n2)\n",
    "result.display()\n",
    "#(a+bi)×(c+di)=(ac−bd)+(ad+bc)i\n",
    "\n",
    "print(\"Division is\")\n",
    "result=n1.div(n2)\n",
    "result.display()\n",
    "#(a+bi)/(c+di)=((ac+bd)+(bc−ad)i)/(c^2+d^2)\n",
    "​\n",
    " "
   ]
  },
  {
   "cell_type": "code",
   "execution_count": 16,
   "id": "04453355-e589-47b8-9593-fa540e7481ca",
   "metadata": {},
   "outputs": [
    {
     "name": "stdout",
     "output_type": "stream",
     "text": [
      "Addition is -1 + 13i\n",
      "Subtraction is 5 + 6i\n",
      "Multiplication is -72 + -1i\n",
      "Division is 0.1411764705882353 + -0.8352941176470589i\n"
     ]
    }
   ],
   "source": [
    "#Using init Function\n",
    "class complex:\n",
    "    def __init__(s,real,img):\n",
    "        s.real=real\n",
    "        s.img=img\n",
    "        \n",
    "    def __add__(s,num):\n",
    "        s.real=s.real+num.real\n",
    "        s.img=s.img+num.img\n",
    "        result=complex(s.real,s.img)\n",
    "        return result\n",
    "        \n",
    "    def __sub__(s,num):\n",
    "        s.real=s.real-num.real\n",
    "        s.img=s.img-num.img\n",
    "        result=complex(s.real,s.img)\n",
    "        return result\n",
    "        \n",
    "    def __mul__(s, num):\n",
    "        result_real = s.real * num.real - s.img * num.img\n",
    "        result_img = s.real * num.img + s.img * num.real\n",
    "        return complex(result_real, result_img)\n",
    "\n",
    "    def __truediv__(s, num):\n",
    "        denominator = num.real ** 2 + num.img ** 2\n",
    "        result_real = (s.real * num.real + s.img * num.img) / denominator\n",
    "        result_img = (s.img * num.real - s.real * num.img) / denominator\n",
    "        return complex(result_real, result_img)\n",
    "\n",
    "    def __str__(s):\n",
    "        return (f\"{s.real} + {s.img}i\")\n",
    "\n",
    "n1=complex(5,6)\n",
    "n2=complex(-6,7)\n",
    "\n",
    "print(\"Addition is\",n1+n2)\n",
    "\n",
    "print(\"Subtraction is\",n1-n2)\n",
    "\n",
    "print(\"Multiplication is\",n1*n2)\n",
    "\n",
    "print(\"Division is\",n1/n2)"
   ]
  },
  {
   "cell_type": "code",
   "execution_count": null,
   "id": "a046b292-74dd-4a51-91d1-e77e0c213585",
   "metadata": {},
   "outputs": [],
   "source": []
  }
 ],
 "metadata": {
  "kernelspec": {
   "display_name": "Python 3",
   "language": "python",
   "name": "python3"
  },
  "language_info": {
   "codemirror_mode": {
    "name": "ipython",
    "version": 3
   },
   "file_extension": ".py",
   "mimetype": "text/x-python",
   "name": "python",
   "nbconvert_exporter": "python",
   "pygments_lexer": "ipython3",
   "version": "3.12.4"
  }
 },
 "nbformat": 4,
 "nbformat_minor": 5
}
