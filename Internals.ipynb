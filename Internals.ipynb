{
 "cells": [
  {
   "cell_type": "markdown",
   "id": "352a7dc3-3391-47ea-883a-e79c4abe3d9d",
   "metadata": {},
   "source": [
    "1st Internals"
   ]
  },
  {
   "cell_type": "code",
   "execution_count": 78,
   "id": "454b096b-11ec-4e4a-baf2-0bb7e09d7232",
   "metadata": {},
   "outputs": [
    {
     "name": "stdout",
     "output_type": "stream",
     "text": [
      "Computer Science\n",
      "Scienc\n",
      "eniSrtpo\n",
      "Computer Science\n",
      "False\n",
      "mpute and enc\n"
     ]
    }
   ],
   "source": [
    "mysub=\"Computer Science\"\n",
    "print(mysub[0:len(mysub)])\n",
    "print(mysub[-7:-1])\n",
    "print(mysub[::-2])\n",
    "print(mysub[:3]+mysub[3:])\n",
    "print(mysub.isalpha())\n",
    "print(mysub[2:7],\"and\",mysub[-4:-1])"
   ]
  },
  {
   "cell_type": "code",
   "execution_count": 80,
   "id": "5b54e952-7c24-4037-a242-cd045d635b20",
   "metadata": {},
   "outputs": [
    {
     "name": "stdout",
     "output_type": "stream",
     "text": [
      "welcome\n",
      "welcome\n",
      "welcome\n",
      "welcome\n",
      "welcome\n"
     ]
    }
   ],
   "source": [
    "t=\"DataAnalysis with python\"\n",
    "for ch in t[2:7]:\n",
    "    print(\"welcome\")"
   ]
  },
  {
   "cell_type": "code",
   "execution_count": 14,
   "id": "ed49be33-1503-4e30-ab70-21b78625a6c8",
   "metadata": {},
   "outputs": [
    {
     "name": "stdout",
     "output_type": "stream",
     "text": [
      "[10, 26, 32]\n",
      "[12, 32, 62, 26, 80, 10]\n"
     ]
    }
   ],
   "source": [
    "List1=[12,32,62,26,80,10]\n",
    "print(List1[::-2])\n",
    "print(List1[:3]+List1[3:])"
   ]
  },
  {
   "cell_type": "code",
   "execution_count": 82,
   "id": "c8eac690-4e6b-4a47-9259-e251a668ae19",
   "metadata": {},
   "outputs": [
    {
     "name": "stdout",
     "output_type": "stream",
     "text": [
      "[10, 20, 30, 40, [50, 60]]\n",
      "[10, 20, 30, 40, [50, 60], 80, 90]\n",
      "[20, 40, 80]\n"
     ]
    }
   ],
   "source": [
    "myList=[10,20,30,40]\n",
    "myList.append([50,60])\n",
    "print(myList)\n",
    "myList.extend([80,90])\n",
    "print(myList)\n",
    "del myList[::2]\n",
    "print(myList)"
   ]
  },
  {
   "cell_type": "code",
   "execution_count": 94,
   "id": "3f7b9d93-efdc-499a-bdb8-dce761a84442",
   "metadata": {},
   "outputs": [
    {
     "name": "stdout",
     "output_type": "stream",
     "text": [
      "1\n",
      "3\n",
      "5\n",
      "7\n",
      "10\n"
     ]
    }
   ],
   "source": [
    "myList=[1,2,3,4,5,6,7,8,10]\n",
    "for i in range(0,len(myList)):\n",
    "    if i%2==0:\n",
    "        print(myList[i])"
   ]
  },
  {
   "cell_type": "code",
   "execution_count": 112,
   "id": "a2da843e-b219-4576-a4ce-8b1f8ea97906",
   "metadata": {},
   "outputs": [
    {
     "name": "stdout",
     "output_type": "stream",
     "text": [
      "('python',)\n",
      "3\n"
     ]
    }
   ],
   "source": [
    "t=tuple()\n",
    "t=t+(\"python\",)\n",
    "print(t)\n",
    "t1=(10,20,30)\n",
    "print(len(t1))"
   ]
  },
  {
   "cell_type": "code",
   "execution_count": 2,
   "id": "427da1b2-f724-4e46-a739-729e3eb10537",
   "metadata": {},
   "outputs": [],
   "source": [
    "# tup=(10,56,23,45,23,11,(15,16),75)\n",
    "# tup.tuple(5,10)\n",
    "# print(tup)\n",
    "# print(min(tup[9]))\n",
    "# tup.pop(65)\n",
    "# print(sum(tup))"
   ]
  },
  {
   "cell_type": "code",
   "execution_count": 3,
   "id": "08ab3c28-f7f5-456d-bc23-21cc6f69d69f",
   "metadata": {},
   "outputs": [],
   "source": [
    "# tup = [10, 56, 23, 45, 23, 11, [15, 16], 75]\n",
    "\n",
    "# tup.insert(5, 10)\n",
    "# print(tup)\n",
    "\n",
    "# print(min(tup[7]))\n",
    "\n",
    "# tup.pop(7)\n",
    "# print(tup)\n",
    "\n",
    "# add = sum(tup[:6]) + sum(tup[6]) + sum(tup[7:])\n",
    "# print(add)"
   ]
  },
  {
   "cell_type": "code",
   "execution_count": 158,
   "id": "5dfaf590-969c-4a40-99ec-01bb7e4b6c30",
   "metadata": {},
   "outputs": [
    {
     "name": "stdout",
     "output_type": "stream",
     "text": [
      "{'C': [10], 'A': [10], 'D': [10], 'B': [10]}\n",
      "{'C': [10, 3], 'A': [10, 3], 'D': [10, 3], 'B': [10, 3]}\n"
     ]
    }
   ],
   "source": [
    "key={\"A\",\"B\",\"C\",\"D\"}\n",
    "value=[10]\n",
    "dict1=dict.fromkeys(key, value)\n",
    "print(dict1)\n",
    "value.append(3)\n",
    "print(dict1)"
   ]
  },
  {
   "cell_type": "code",
   "execution_count": 162,
   "id": "18f3cbbd-99b0-4810-8130-3e46961eb413",
   "metadata": {},
   "outputs": [
    {
     "name": "stdout",
     "output_type": "stream",
     "text": [
      "{1: None, 2: None, 3: None, 4: None, 5: None}\n"
     ]
    }
   ],
   "source": [
    "keys={1,2,3,4,5}\n",
    "print(dict.fromkeys(keys))"
   ]
  },
  {
   "cell_type": "code",
   "execution_count": 58,
   "id": "e0dfd5a0-eb49-4a02-9e0b-3800b95e6510",
   "metadata": {},
   "outputs": [
    {
     "name": "stdout",
     "output_type": "stream",
     "text": [
      "dict_items([(10, 100), (20, 200), (30, 300), (40, 400), (50, 500)])\n",
      "dict_keys([10, 20, 30, 40, 50])\n",
      "dict_values([100, 200, 300, 400, 500])\n"
     ]
    }
   ],
   "source": [
    "A={10:100,20:200,30:300,40:400,50:500}\n",
    "print(A.items())\n",
    "print(A.keys())\n",
    "print(A.values())"
   ]
  },
  {
   "cell_type": "code",
   "execution_count": 66,
   "id": "3a8718c3-2a7a-41ce-99fa-b427ad19b040",
   "metadata": {},
   "outputs": [
    {
     "name": "stdout",
     "output_type": "stream",
     "text": [
      "Hello\n"
     ]
    }
   ],
   "source": [
    "class test:\n",
    "    def __init__(self,a):\n",
    "        self.a=a\n",
    "    def display(self):\n",
    "        print(self.a)\n",
    "obj=test(\"Hello\")\n",
    "obj.display()"
   ]
  },
  {
   "cell_type": "code",
   "execution_count": 164,
   "id": "4668cac4-7f1d-40ac-b0a1-7d04fae9cfd5",
   "metadata": {},
   "outputs": [
    {
     "name": "stdout",
     "output_type": "stream",
     "text": [
      "[1, 2, 3, 4, 5]\n",
      "[1, 2, 3, 5]\n",
      "[5, 3, 2, 1]\n"
     ]
    }
   ],
   "source": [
    "a=[1,2,3,4]\n",
    "a.append(5)\n",
    "print(a)\n",
    "a.remove(4)\n",
    "print(a)\n",
    "a.reverse()\n",
    "print(a)"
   ]
  },
  {
   "cell_type": "code",
   "execution_count": 26,
   "id": "4f97882f-70e2-48db-af54-28c5af074797",
   "metadata": {},
   "outputs": [
    {
     "name": "stdout",
     "output_type": "stream",
     "text": [
      "Time is : Tue Aug 13 08:32:28 IST 2024\n",
      "Time is : Tue Aug 13 08:32:28 2024\n"
     ]
    }
   ],
   "source": [
    "import datetime\n",
    "\n",
    "time = datetime.datetime.now().strftime(\"%a %b %d %H:%M:%S IST %Y\")\n",
    "time1 = datetime.datetime.now().strftime(\"%c\")\n",
    "\n",
    "print(\"Time is :\", time)\n",
    "print(\"Time is :\", time1)"
   ]
  },
  {
   "cell_type": "code",
   "execution_count": 254,
   "id": "3cb8f1f8-8180-45c8-a5b3-d27409c5ef09",
   "metadata": {},
   "outputs": [
    {
     "name": "stdout",
     "output_type": "stream",
     "text": [
      "Enter a year : 2020\n"
     ]
    },
    {
     "name": "stdout",
     "output_type": "stream",
     "text": [
      "2020 is a leap year.\n"
     ]
    }
   ],
   "source": [
    "def leap_year(year):\n",
    "\n",
    "    if (year % 4 == 0 or year % 100 == 0) or (year % 400 == 0):\n",
    "        return True\n",
    "    else:\n",
    "        return False\n",
    "\n",
    "year = int(input(\"Enter a year :\"))\n",
    "if leap_year(year):\n",
    "    print(f\"{year} is a leap year.\")\n",
    "else:\n",
    "    print(f\"{year} is not a leap year.\")\n"
   ]
  },
  {
   "cell_type": "code",
   "execution_count": 34,
   "id": "04ebcc5b-d4cf-4350-9689-0519f495de75",
   "metadata": {},
   "outputs": [
    {
     "name": "stdout",
     "output_type": "stream",
     "text": [
      "Enter a word : hello\n"
     ]
    },
    {
     "name": "stdout",
     "output_type": "stream",
     "text": [
      "{'h': 1, 'e': 1, 'l': 2, 'o': 1}\n"
     ]
    }
   ],
   "source": [
    "word=input(\"Enter a word :\")\n",
    "dict={}\n",
    "for i in word:\n",
    "    if i in dict:\n",
    "        dict[i]+=1\n",
    "    else:\n",
    "        dict[i]=1\n",
    "print(dict)"
   ]
  },
  {
   "cell_type": "code",
   "execution_count": 278,
   "id": "365959bf-63a1-4108-a265-34a8671bec90",
   "metadata": {},
   "outputs": [
    {
     "name": "stdout",
     "output_type": "stream",
     "text": [
      "Emp name: Sudu, Salary: 75000\n",
      "Emp name: Ram, Salary: 60000\n",
      "Emp name: Nithin, Salary: 55000\n"
     ]
    }
   ],
   "source": [
    "emp={\"Sudu\":75000,\"Ram\":60000,\"Nithin\":55000}\n",
    "for name,salary in emp.items():\n",
    "    print(f\"Emp name: {name}, Salary: {salary}\")"
   ]
  },
  {
   "cell_type": "code",
   "execution_count": null,
   "id": "53195d93-6373-42f1-91c3-eb822be4d261",
   "metadata": {},
   "outputs": [],
   "source": [
    "class student:\n",
    "    def __init__(a,id,name,marks):\n",
    "        a.id=id\n",
    "        a.name=name\n",
    "        a.marks=marks\n",
    "    def avg(a):\n",
    "        return sum(a.marks)/len(a.marks)\n",
    "    def putdata(a):\n",
    "        print(\"\\nFaculty ID is\",a.id)\n",
    "        print(\"Faculty Name is\",a.name)\n",
    "        print(\"Faculty marks is\",a.marks)\n",
    "        \n",
    "stu=student(1,\"Sudu\",[50,48,49,45,44,47])\n",
    "stu.putdata()\n",
    "print(\"Student Average marks is\",stu.avg())"
   ]
  }
 ],
 "metadata": {
  "kernelspec": {
   "display_name": "Python 3",
   "language": "python",
   "name": "python3"
  },
  "language_info": {
   "codemirror_mode": {
    "name": "ipython",
    "version": 3
   },
   "file_extension": ".py",
   "mimetype": "text/x-python",
   "name": "python",
   "nbconvert_exporter": "python",
   "pygments_lexer": "ipython3",
   "version": "3.12.4"
  }
 },
 "nbformat": 4,
 "nbformat_minor": 5
}
